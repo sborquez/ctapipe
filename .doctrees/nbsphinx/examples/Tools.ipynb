{
 "cells": [
  {
   "cell_type": "markdown",
   "metadata": {},
   "source": [
    "# Creating command-line Tools"
   ]
  },
  {
   "cell_type": "code",
   "execution_count": 1,
   "metadata": {},
   "outputs": [],
   "source": [
    "from ctapipe.core import Tool, Component, TelescopeComponent\n",
    "from ctapipe.core.traits import (\n",
    "    Integer, Float, List, Dict, Unicode,\n",
    "    TraitError, observe, FloatTelescopeParameter,\n",
    "    Path,\n",
    ")\n",
    "import logging\n",
    "from time import sleep\n",
    "from astropy import units as u\n",
    "from ctapipe.utils import get_dataset_path"
   ]
  },
  {
   "cell_type": "code",
   "execution_count": 2,
   "metadata": {},
   "outputs": [],
   "source": [
    "GAMMA_FILE = get_dataset_path('gamma_test.simtel.gz')"
   ]
  },
  {
   "cell_type": "markdown",
   "metadata": {},
   "source": [
    "see https://github.com/ipython/traitlets/blob/master/examples/myapp.py"
   ]
  },
  {
   "cell_type": "markdown",
   "metadata": {},
   "source": [
    "## Setup:\n",
    "\n",
    "Create a few `Component`s that we will use later in a `Tool`:"
   ]
  },
  {
   "cell_type": "code",
   "execution_count": 3,
   "metadata": {},
   "outputs": [],
   "source": [
    "class MyComponent(Component):\n",
    "    \"\"\" A Component that does stuff \"\"\"\n",
    "\n",
    "    value = Integer(default_value=-1, help=\"Value to use\").tag(config=True)\n",
    "\n",
    "    def do_thing(self):\n",
    "        self.log.debug(\"Did thing\")\n",
    "\n",
    "\n",
    "# in order to have 2 of the same components at once\n",
    "class SecondaryMyComponent(MyComponent):\n",
    "    pass\n",
    "\n",
    "\n",
    "class AdvancedComponent(Component):\n",
    "    \"\"\" An advanced technique \"\"\"\n",
    "\n",
    "    value1 = Integer(default_value=-1, help=\"Value to use\").tag(config=True)\n",
    "    infile = Path(\n",
    "        help=\"input file name\", \n",
    "        exists=None,  # set to True to require existing, False for requiring non-existing\n",
    "        directory_ok=False,\n",
    "    ).tag(config=True)\n",
    "    outfile = Path(\n",
    "        help=\"output file name\",\n",
    "        exists=False, directory_ok=False\n",
    "    ).tag(config=True)\n",
    "\n",
    "    @observe(\"outfile\")\n",
    "    def on_outfile_changed(self, change):\n",
    "        self.log.warning(\"Outfile was changed to '{}'\".format(change))\n",
    "\n",
    "\n",
    "class TelescopeWiseComponent(TelescopeComponent):\n",
    "    \"\"\" a component that contains parameters that are per-telescope configurable \"\"\"\n",
    "\n",
    "    param = FloatTelescopeParameter(\n",
    "        help=\"Something configurable with telescope patterns\", default_value=5.0\n",
    "    ).tag(config=True)"
   ]
  },
  {
   "cell_type": "code",
   "execution_count": 4,
   "metadata": {},
   "outputs": [
    {
     "data": {
      "text/html": [
       "<b>MyComponent</b>\n",
       "<p>  A Component that does stuff  </p>\n",
       "<table>\n",
       "<tr><th>value</th>\n",
       "<td>-1</td>\n",
       "<td style=\"text-align:left\"><i>Value to use (default: -1)</i></td></tr>\n",
       "</table>"
      ],
      "text/plain": [
       "<__main__.MyComponent at 0x7ff6cc05e190>"
      ]
     },
     "execution_count": 4,
     "metadata": {},
     "output_type": "execute_result"
    }
   ],
   "source": [
    "MyComponent()"
   ]
  },
  {
   "cell_type": "code",
   "execution_count": 5,
   "metadata": {},
   "outputs": [
    {
     "data": {
      "text/html": [
       "<b>AdvancedComponent</b>\n",
       "<p>  An advanced technique  </p>\n",
       "<table>\n",
       "<tr><th>infile</th>\n",
       "<td>None</td>\n",
       "<td style=\"text-align:left\"><i>input file name (default: None)</i></td></tr>\n",
       "<tr><th>outfile</th>\n",
       "<td>None</td>\n",
       "<td style=\"text-align:left\"><i>output file name (default: None)</i></td></tr>\n",
       "<tr><th>value1</th>\n",
       "<td>-1</td>\n",
       "<td style=\"text-align:left\"><i>Value to use (default: -1)</i></td></tr>\n",
       "</table>"
      ],
      "text/plain": [
       "<__main__.AdvancedComponent at 0x7ff6cc05ed50>"
      ]
     },
     "execution_count": 5,
     "metadata": {},
     "output_type": "execute_result"
    }
   ],
   "source": [
    "AdvancedComponent()"
   ]
  },
  {
   "cell_type": "markdown",
   "metadata": {},
   "source": [
    "`TelescopeComponents` need to have a subarray given to them in order to work (since they need one to turn a `TelescopeParameter` into a concrete list of values for each telescope.  Here we will give a dummy one:"
   ]
  },
  {
   "cell_type": "code",
   "execution_count": 6,
   "metadata": {},
   "outputs": [
    {
     "name": "stderr",
     "output_type": "stream",
     "text": [
      "Resorting to default CameraReadout, File does not exist: (LSTCam.camreadout)\n"
     ]
    },
    {
     "name": "stderr",
     "output_type": "stream",
     "text": [
      "Resorting to default CameraReadout, File does not exist: (NectarCam.camreadout)\n"
     ]
    },
    {
     "name": "stdout",
     "output_type": "stream",
     "text": [
      "Subarray : Junk\n",
      "Num Tels : 2\n",
      "Footprint: 0.00 km2\n",
      "\n",
      "                TYPE  Num IDmin  IDmax\n",
      "=====================================\n",
      "      LST_LST_LSTCam    1    1 ..   1\n",
      "   MST_MST_NectarCam    1    2 ..   2\n"
     ]
    }
   ],
   "source": [
    "from ctapipe.instrument import SubarrayDescription, TelescopeDescription\n",
    "\n",
    "subarray = SubarrayDescription(\n",
    "    \"Junk\",\n",
    "    tel_positions={1: (0.0, 0.0, 0.0) * u.m, 2: (1.0, 1.0, 0.0) * u.m},\n",
    "    tel_descriptions={\n",
    "        1: TelescopeDescription.from_name(\"LST\", \"LSTCam\"),\n",
    "        2: TelescopeDescription.from_name(\"MST\", \"NectarCam\"),\n",
    "    },\n",
    ")\n",
    "subarray.info()"
   ]
  },
  {
   "cell_type": "code",
   "execution_count": 7,
   "metadata": {},
   "outputs": [
    {
     "data": {
      "text/html": [
       "<b>TelescopeWiseComponent</b>\n",
       "<p>  a component that contains parameters that are per-telescope configurable  </p>\n",
       "<table>\n",
       "<tr><th>param</th>\n",
       "<td><span style='color:blue'>[('type', '*', 5.0)]</span></td>\n",
       "<td style=\"text-align:left\"><i>Something configurable with telescope patterns (default: traitlets.Undefined)</i></td></tr>\n",
       "</table>"
      ],
      "text/plain": [
       "<__main__.TelescopeWiseComponent at 0x7ff6cbfec890>"
      ]
     },
     "execution_count": 7,
     "metadata": {},
     "output_type": "execute_result"
    }
   ],
   "source": [
    "TelescopeWiseComponent(subarray=subarray)"
   ]
  },
  {
   "cell_type": "markdown",
   "metadata": {},
   "source": [
    "This TelescopeParameters can then be set using a list of patterns like:\n",
    "```python\n",
    "component.param = [ \n",
    "    (\"type\", \"LST*\",3.0), \n",
    "    (\"type\", \"MST*\", 2.0), \n",
    "    (id, 25, 4.0) \n",
    "]\n",
    "```\n",
    "\n",
    "These get translated into per-telescope-id values once the subarray is registered.  After that one acccess the per-telescope id values via:\n",
    "```python\n",
    "component.param.tel[tel_id]\n",
    "```"
   ]
  },
  {
   "cell_type": "markdown",
   "metadata": {},
   "source": [
    "## Now create an executable Tool that contains the Components"
   ]
  },
  {
   "cell_type": "code",
   "execution_count": 8,
   "metadata": {},
   "outputs": [],
   "source": [
    "class MyTool(Tool):\n",
    "    name=\"mytool\"\n",
    "    description=\"do some things and stuff\"\n",
    "    aliases = dict(\n",
    "        infile='AdvancedComponent.infile',\n",
    "        iterations='MyTool.iterations'\n",
    "    )\n",
    "\n",
    "    # Which classes are registered for configuration\n",
    "    classes = List([MyComponent, AdvancedComponent, SecondaryMyComponent, TelescopeWiseComponent])\n",
    "\n",
    "    # local configuration parameters\n",
    "    iterations = Integer(5,help=\"Number of times to run\",allow_none=False).tag(config=True)\n",
    "\n",
    "    def setup_comp(self):\n",
    "        # when constructing Components, you must add them to the \n",
    "        # list of registered instances using add_component. This allows\n",
    "        # the full configuration to be tracked\n",
    "        self.comp = self.add_component(MyComponent(parent=self))\n",
    "        self.comp2 = self.add_component(SecondaryMyComponent(parent=self))\n",
    "\n",
    "    def setup_advanced(self):\n",
    "        self.advanced = self.add_component(AdvancedComponent(parent=self))\n",
    "        self.comp3 = self.add_component(TelescopeWiseComponent(parent=self, subarray=subarray))\n",
    "\n",
    "\n",
    "    def setup(self):\n",
    "        self.setup_comp()\n",
    "        self.setup_advanced()\n",
    "\n",
    "    def start(self):\n",
    "        self.log.info(\"Performing {} iterations...\".format(self.iterations))\n",
    "        for ii in range(self.iterations):\n",
    "            self.log.info(\"ITERATION {}\".format(ii))\n",
    "            self.comp.do_thing()\n",
    "            self.comp2.do_thing()\n",
    "            sleep(0.1)\n",
    "            \n",
    "    def finish(self):\n",
    "        self.log.warning(\"Shutting down.\")\n",
    "    "
   ]
  },
  {
   "cell_type": "markdown",
   "metadata": {},
   "source": [
    "## Get Help info\n",
    "\n",
    "The following allows you to print the help info within a Jupyter notebook, but this same inforamtion would be displayed if the user types:\n",
    "```\n",
    "  mytool --help\n",
    "```"
   ]
  },
  {
   "cell_type": "code",
   "execution_count": 9,
   "metadata": {},
   "outputs": [],
   "source": [
    "tool=MyTool()"
   ]
  },
  {
   "cell_type": "code",
   "execution_count": 10,
   "metadata": {},
   "outputs": [
    {
     "name": "stdout",
     "output_type": "stream",
     "text": [
      "do some things and stuff\n",
      "\n",
      "Options\n",
      "-------\n",
      "\n",
      "Arguments that take values are actually convenience aliases to full\n",
      "Configurables, whose aliases are listed on the help line. For more information\n",
      "on full configurables, see '--help-all'.\n",
      "\n",
      "--infile=<Path> (AdvancedComponent.infile)\n",
      "    Default: None\n",
      "    input file name\n",
      "--iterations=<Int> (MyTool.iterations)\n",
      "    Default: 5\n",
      "    Number of times to run\n",
      "--log-level=<Enum> (Application.log_level)\n",
      "    Default: 30\n",
      "    Choices: (0, 10, 20, 30, 40, 50, 'DEBUG', 'INFO', 'WARN', 'ERROR', 'CRITICAL')\n",
      "    Set the log level by value or name.\n",
      "--config=<Path> (Tool.config_file)\n",
      "    Default: None\n",
      "    name of a configuration file with parameters to load in addition to command-\n",
      "    line parameters\n",
      "\n",
      "To see all available configurables, use `--help-all`\n",
      "\n"
     ]
    }
   ],
   "source": [
    "tool.print_help()"
   ]
  },
  {
   "cell_type": "markdown",
   "metadata": {},
   "source": [
    "The following  is equivalant to the user typing `mytool --help-all`"
   ]
  },
  {
   "cell_type": "code",
   "execution_count": 11,
   "metadata": {},
   "outputs": [
    {
     "name": "stdout",
     "output_type": "stream",
     "text": [
      "do some things and stuff\n",
      "\n",
      "Options\n",
      "-------\n",
      "\n",
      "Arguments that take values are actually convenience aliases to full\n",
      "Configurables, whose aliases are listed on the help line. For more information\n",
      "on full configurables, see '--help-all'.\n",
      "\n",
      "--infile=<Path> (AdvancedComponent.infile)\n",
      "    Default: None\n",
      "    input file name\n",
      "--iterations=<Int> (MyTool.iterations)\n",
      "    Default: 5\n",
      "    Number of times to run\n",
      "--log-level=<Enum> (Application.log_level)\n",
      "    Default: 30\n",
      "    Choices: (0, 10, 20, 30, 40, 50, 'DEBUG', 'INFO', 'WARN', 'ERROR', 'CRITICAL')\n",
      "    Set the log level by value or name.\n",
      "--config=<Path> (Tool.config_file)\n",
      "    Default: None\n",
      "    name of a configuration file with parameters to load in addition to command-\n",
      "    line parameters\n",
      "\n",
      "Class parameters\n",
      "----------------\n",
      "\n",
      "Parameters are set from command-line arguments of the form:\n",
      "`--Class.trait=value`. This line is evaluated in Python, so simple expressions\n",
      "are allowed, e.g.:: `--C.a='range(3)'` For setting C.a=[0,1,2].\n",
      "\n",
      "MyTool options\n",
      "--------------\n",
      "--MyTool.config_file=<Path>\n",
      "    Default: None\n",
      "    name of a configuration file with parameters to load in addition to command-\n",
      "    line parameters\n",
      "--MyTool.iterations=<Int>\n",
      "    Default: 5\n",
      "    Number of times to run\n",
      "--MyTool.log_datefmt=<Unicode>\n",
      "    Default: '%Y-%m-%d %H:%M:%S'\n",
      "    The date format used by logging formatters for %(asctime)s\n",
      "--MyTool.log_format=<Unicode>\n",
      "    Default: '%(levelname)s [%(name)s] (%(module)s/%(funcName)s): %(messag...\n",
      "    The Logging format template\n",
      "--MyTool.log_level=<Enum>\n",
      "    Default: 30\n",
      "    Choices: (0, 10, 20, 30, 40, 50, 'DEBUG', 'INFO', 'WARN', 'ERROR', 'CRITICAL')\n",
      "    Set the log level by value or name.\n",
      "\n",
      "MyComponent options\n",
      "-------------------\n",
      "--MyComponent.value=<Int>\n",
      "    Default: -1\n",
      "    Value to use\n",
      "\n",
      "AdvancedComponent options\n",
      "-------------------------\n",
      "--AdvancedComponent.infile=<Path>\n",
      "    Default: None\n",
      "    input file name\n",
      "--AdvancedComponent.outfile=<Path>\n",
      "    Default: None\n",
      "    output file name\n",
      "--AdvancedComponent.value1=<Int>\n",
      "    Default: -1\n",
      "    Value to use\n",
      "\n",
      "SecondaryMyComponent options\n",
      "----------------------------\n",
      "--SecondaryMyComponent.value=<Int>\n",
      "    Default: -1\n",
      "    Value to use\n",
      "\n",
      "TelescopeWiseComponent options\n",
      "------------------------------\n",
      "--TelescopeWiseComponent.param=<FloatTelescopeParameter>\n",
      "    Default: [('type', '*', 5.0)]\n",
      "    Something configurable with telescope patterns\n",
      "\n"
     ]
    }
   ],
   "source": [
    "tool.print_help(classes=True)"
   ]
  },
  {
   "cell_type": "markdown",
   "metadata": {},
   "source": [
    "## Run the tool\n",
    "\n",
    "here we pass in argv since it is a Notebook, but if argv is not specified it's read from `sys.argv`, so the following is the same as running:\n",
    "\n",
    "```sh\n",
    "mytool --log_level=INFO --infile gamma_test.simtel.gz --iterations=3\n",
    "```\n",
    "\n",
    "As Tools are intended to be exectutables, they are raising `SystemExit` on exit.\n",
    "Here, we use them to demonstrate how it would work, so we catch the `SystemExit`."
   ]
  },
  {
   "cell_type": "code",
   "execution_count": 12,
   "metadata": {
    "scrolled": false
   },
   "outputs": [
    {
     "name": "stderr",
     "output_type": "stream",
     "text": [
      "\u001b[1;32mINFO\u001b[0m [MyTool] (tool/initialize): ctapipe version 0.8.0.post10+git262b6aa\n"
     ]
    },
    {
     "name": "stderr",
     "output_type": "stream",
     "text": [
      "\u001b[1;32mINFO\u001b[0m [MyTool] (tool/run): Starting: mytool\n"
     ]
    },
    {
     "name": "stderr",
     "output_type": "stream",
     "text": [
      "\u001b[1;32mINFO\u001b[0m [MyTool] (<ipython-input-8-24ed1862db7e>/start): Performing 5 iterations...\n"
     ]
    },
    {
     "name": "stderr",
     "output_type": "stream",
     "text": [
      "\u001b[1;32mINFO\u001b[0m [MyTool] (<ipython-input-8-24ed1862db7e>/start): ITERATION 0\n"
     ]
    },
    {
     "name": "stderr",
     "output_type": "stream",
     "text": [
      "\u001b[1;32mINFO\u001b[0m [MyTool] (<ipython-input-8-24ed1862db7e>/start): ITERATION 1\n"
     ]
    },
    {
     "name": "stderr",
     "output_type": "stream",
     "text": [
      "\u001b[1;32mINFO\u001b[0m [MyTool] (<ipython-input-8-24ed1862db7e>/start): ITERATION 2\n"
     ]
    },
    {
     "name": "stderr",
     "output_type": "stream",
     "text": [
      "\u001b[1;32mINFO\u001b[0m [MyTool] (<ipython-input-8-24ed1862db7e>/start): ITERATION 3\n"
     ]
    },
    {
     "name": "stderr",
     "output_type": "stream",
     "text": [
      "\u001b[1;32mINFO\u001b[0m [MyTool] (<ipython-input-8-24ed1862db7e>/start): ITERATION 4\n"
     ]
    },
    {
     "name": "stderr",
     "output_type": "stream",
     "text": [
      "\u001b[1;33mWARNING\u001b[0m [MyTool] (<ipython-input-8-24ed1862db7e>/finish): Shutting down.\n"
     ]
    },
    {
     "name": "stderr",
     "output_type": "stream",
     "text": [
      "\u001b[1;32mINFO\u001b[0m [MyTool] (tool/run): Finished: mytool\n"
     ]
    },
    {
     "name": "stderr",
     "output_type": "stream",
     "text": [
      "\u001b[1;32mINFO\u001b[0m [MyTool] (tool/run): Output: \n"
     ]
    }
   ],
   "source": [
    "try:\n",
    "    tool.run(argv=['--infile',  GAMMA_FILE])\n",
    "except SystemExit as e:\n",
    "    assert e.code == 0, f'Tool returned with error status {e}'"
   ]
  },
  {
   "cell_type": "code",
   "execution_count": 13,
   "metadata": {},
   "outputs": [
    {
     "name": "stderr",
     "output_type": "stream",
     "text": [
      "2020-07-05 11:43:47 : \u001b[1;32mINFO\u001b[0m [MyTool initialize] ctapipe version 0.8.0.post10+git262b6aa\n"
     ]
    },
    {
     "name": "stderr",
     "output_type": "stream",
     "text": [
      "2020-07-05 11:43:47 : \u001b[1;32mINFO\u001b[0m [MyTool run] Starting: mytool\n"
     ]
    },
    {
     "name": "stderr",
     "output_type": "stream",
     "text": [
      "2020-07-05 11:43:47 : \u001b[1;32mINFO\u001b[0m [MyTool start] Performing 3 iterations...\n"
     ]
    },
    {
     "name": "stderr",
     "output_type": "stream",
     "text": [
      "2020-07-05 11:43:47 : \u001b[1;32mINFO\u001b[0m [MyTool start] ITERATION 0\n"
     ]
    },
    {
     "name": "stderr",
     "output_type": "stream",
     "text": [
      "2020-07-05 11:43:48 : \u001b[1;32mINFO\u001b[0m [MyTool start] ITERATION 1\n"
     ]
    },
    {
     "name": "stderr",
     "output_type": "stream",
     "text": [
      "2020-07-05 11:43:48 : \u001b[1;32mINFO\u001b[0m [MyTool start] ITERATION 2\n"
     ]
    },
    {
     "name": "stderr",
     "output_type": "stream",
     "text": [
      "2020-07-05 11:43:48 : \u001b[1;33mWARNING\u001b[0m [MyTool finish] Shutting down.\n"
     ]
    },
    {
     "name": "stderr",
     "output_type": "stream",
     "text": [
      "2020-07-05 11:43:48 : \u001b[1;32mINFO\u001b[0m [MyTool run] Finished: mytool\n"
     ]
    },
    {
     "name": "stderr",
     "output_type": "stream",
     "text": [
      "2020-07-05 11:43:48 : \u001b[1;32mINFO\u001b[0m [MyTool run] Output: \n"
     ]
    },
    {
     "name": "stderr",
     "output_type": "stream",
     "text": [
      "2020-07-05 11:43:48 : \u001b[1;32mINFO\u001b[0m [MyTool run] Output: \n"
     ]
    }
   ],
   "source": [
    "tool.log_format = \"%(asctime)s : %(levelname)s [%(name)s %(funcName)s] %(message)s\" \n",
    "\n",
    "\n",
    "try:\n",
    "    tool.run(argv=['--log-level','INFO','--infile', GAMMA_FILE, '--iterations','3'])\n",
    "except SystemExit as e:\n",
    "    assert e.code == 0, f'Tool returned with error status {e}'"
   ]
  },
  {
   "cell_type": "markdown",
   "metadata": {},
   "source": [
    "here we change the log-level to DEBUG:"
   ]
  },
  {
   "cell_type": "code",
   "execution_count": 14,
   "metadata": {
    "scrolled": false
   },
   "outputs": [
    {
     "name": "stderr",
     "output_type": "stream",
     "text": [
      "2020-07-05 11:43:48 : \u001b[1;32mINFO\u001b[0m [MyTool initialize] ctapipe version 0.8.0.post10+git262b6aa\n"
     ]
    },
    {
     "name": "stderr",
     "output_type": "stream",
     "text": [
      "2020-07-05 11:43:48 : \u001b[1;34mDEBUG\u001b[0m [MyTool _config_changed] Config changed:\n"
     ]
    },
    {
     "name": "stderr",
     "output_type": "stream",
     "text": [
      "2020-07-05 11:43:48 : \u001b[1;34mDEBUG\u001b[0m [MyTool _config_changed] {'AdvancedComponent': {'infile': '/home/travis/virtualenv/python3.7.6/lib/python3.7/site-packages/ctapipe_resources/gamma_test.simtel.gz'}, 'attach_subarray': <traitlets.config.loader.LazyConfigValue object at 0x7ff6cbfec550>, 'MyTool': {'log_level': 'DEBUG', 'iterations': 3}}\n"
     ]
    },
    {
     "name": "stderr",
     "output_type": "stream",
     "text": [
      "2020-07-05 11:43:48 : \u001b[1;32mINFO\u001b[0m [MyTool run] Starting: mytool\n"
     ]
    },
    {
     "name": "stderr",
     "output_type": "stream",
     "text": [
      "2020-07-05 11:43:48 : \u001b[1;34mDEBUG\u001b[0m [MyTool run] CONFIG: {'MyTool': {'config_file': None, 'iterations': 3, 'log_datefmt': '%Y-%m-%d %H:%M:%S', 'log_format': '%(asctime)s : %(levelname)s [%(name)s %(funcName)s] %(message)s', 'log_level': 10}, 'MyComponent': {'value': -1}, 'SecondaryMyComponent': {'value': -1}, 'AdvancedComponent': {'infile': PosixPath('/home/travis/virtualenv/python3.7.6/lib/python3.7/site-packages/ctapipe_resources/gamma_test.simtel.gz'), 'outfile': None, 'value1': -1}, 'TelescopeWiseComponent': {'param': [('type', '*', 5.0)]}}\n"
     ]
    },
    {
     "name": "stderr",
     "output_type": "stream",
     "text": [
      "2020-07-05 11:43:48 : \u001b[1;32mINFO\u001b[0m [MyTool start] Performing 3 iterations...\n"
     ]
    },
    {
     "name": "stderr",
     "output_type": "stream",
     "text": [
      "2020-07-05 11:43:48 : \u001b[1;32mINFO\u001b[0m [MyTool start] ITERATION 0\n"
     ]
    },
    {
     "name": "stderr",
     "output_type": "stream",
     "text": [
      "2020-07-05 11:43:48 : \u001b[1;34mDEBUG\u001b[0m [MyTool.MyComponent do_thing] Did thing\n"
     ]
    },
    {
     "name": "stderr",
     "output_type": "stream",
     "text": [
      "2020-07-05 11:43:48 : \u001b[1;34mDEBUG\u001b[0m [MyTool.SecondaryMyComponent do_thing] Did thing\n"
     ]
    },
    {
     "name": "stderr",
     "output_type": "stream",
     "text": [
      "2020-07-05 11:43:48 : \u001b[1;32mINFO\u001b[0m [MyTool start] ITERATION 1\n"
     ]
    },
    {
     "name": "stderr",
     "output_type": "stream",
     "text": [
      "2020-07-05 11:43:48 : \u001b[1;34mDEBUG\u001b[0m [MyTool.MyComponent do_thing] Did thing\n"
     ]
    },
    {
     "name": "stderr",
     "output_type": "stream",
     "text": [
      "2020-07-05 11:43:48 : \u001b[1;34mDEBUG\u001b[0m [MyTool.SecondaryMyComponent do_thing] Did thing\n"
     ]
    },
    {
     "name": "stderr",
     "output_type": "stream",
     "text": [
      "2020-07-05 11:43:48 : \u001b[1;32mINFO\u001b[0m [MyTool start] ITERATION 2\n"
     ]
    },
    {
     "name": "stderr",
     "output_type": "stream",
     "text": [
      "2020-07-05 11:43:48 : \u001b[1;34mDEBUG\u001b[0m [MyTool.MyComponent do_thing] Did thing\n"
     ]
    },
    {
     "name": "stderr",
     "output_type": "stream",
     "text": [
      "2020-07-05 11:43:48 : \u001b[1;34mDEBUG\u001b[0m [MyTool.SecondaryMyComponent do_thing] Did thing\n"
     ]
    },
    {
     "name": "stderr",
     "output_type": "stream",
     "text": [
      "2020-07-05 11:43:48 : \u001b[1;33mWARNING\u001b[0m [MyTool finish] Shutting down.\n"
     ]
    },
    {
     "name": "stderr",
     "output_type": "stream",
     "text": [
      "2020-07-05 11:43:48 : \u001b[1;32mINFO\u001b[0m [MyTool run] Finished: mytool\n"
     ]
    },
    {
     "name": "stderr",
     "output_type": "stream",
     "text": [
      "2020-07-05 11:43:48 : \u001b[1;32mINFO\u001b[0m [MyTool run] Output: \n"
     ]
    },
    {
     "name": "stderr",
     "output_type": "stream",
     "text": [
      "2020-07-05 11:43:48 : \u001b[1;32mINFO\u001b[0m [MyTool run] Output: \n"
     ]
    },
    {
     "name": "stderr",
     "output_type": "stream",
     "text": [
      "2020-07-05 11:43:48 : \u001b[1;32mINFO\u001b[0m [MyTool run] Output: \n"
     ]
    },
    {
     "name": "stderr",
     "output_type": "stream",
     "text": [
      "2020-07-05 11:43:48 : \u001b[1;34mDEBUG\u001b[0m [MyTool run] PROVENANCE: '[\n",
      "   {\n",
      "      \"activity_name\": \"mytool\",\n",
      "      \"activity_uuid\": \"19a8f593-086d-4dfe-ba8b-1011534e7726\",\n",
      "      \"start\": {\n",
      "         \"time_utc\": \"2020-07-05T11:43:47.377\"\n",
      "      },\n",
      "      \"stop\": {\n",
      "         \"time_utc\": \"2020-07-05T11:43:47.901\"\n",
      "      },\n",
      "      \"system\": {\n",
      "         \"ctapipe_version\": \"0.8.0.post10+git262b6aa\",\n",
      "         \"ctapipe_resources_version\": \"0.3.0\",\n",
      "         \"eventio_version\": \"1.4.1\",\n",
      "         \"ctapipe_svc_path\": null,\n",
      "         \"executable\": \"/home/travis/virtualenv/python3.7.6/bin/python\",\n",
      "         \"platform\": {\n",
      "            \"architecture_bits\": \"64bit\",\n",
      "            \"architecture_linkage\": \"\",\n",
      "            \"machine\": \"x86_64\",\n",
      "            \"processor\": \"x86_64\",\n",
      "            \"node\": \"travis-job-dac37d3b-4b29-49d5-812a-4e9dcbe13e8e\",\n",
      "            \"version\": \"#32-Ubuntu SMP Tue Feb 11 03:55:48 UTC 2020\",\n",
      "            \"system\": \"Linux\",\n",
      "            \"release\": \"5.0.0-1031-gcp\",\n",
      "            \"libcver\": [\n",
      "               \"glibc\",\n",
      "               \"2.2.5\"\n",
      "            ],\n",
      "            \"num_cpus\": 2,\n",
      "            \"boot_time\": \"2020-07-05T11:34:13.000\"\n",
      "         },\n",
      "         \"python\": {\n",
      "            \"version_string\": \"3.7.6 (default, Dec 21 2019, 10:36:56) \\n[GCC 7.4.0]\",\n",
      "            \"version\": [\n",
      "               \"3\",\n",
      "               \"7\",\n",
      "               \"6\"\n",
      "            ],\n",
      "            \"compiler\": \"GCC 7.4.0\",\n",
      "            \"implementation\": \"CPython\"\n",
      "         },\n",
      "         \"environment\": {\n",
      "            \"CONDA_DEFAULT_ENV\": null,\n",
      "            \"CONDA_PREFIX\": null,\n",
      "            \"CONDA_PYTHON_EXE\": null,\n",
      "            \"CONDA_EXE\": null,\n",
      "            \"CONDA_PROMPT_MODIFIER\": null,\n",
      "            \"CONDA_SHLVL\": null,\n",
      "            \"PATH\": \"/home/travis/virtualenv/python3.7.6/bin:/home/travis/bin:/home/travis/.local/bin:/usr/local/lib/jvm/openjdk11/bin:/opt/pyenv/shims:/home/travis/.phpenv/shims:/home/travis/perl5/perlbrew/bin:/home/travis/.nvm/versions/node/v10.16.0/bin:/home/travis/.kiex/elixirs/elixir-1.7.4/bin:/home/travis/.kiex/bin:/home/travis/.rvm/gems/ruby-2.6.5/bin:/home/travis/.rvm/gems/ruby-2.6.5@global/bin:/home/travis/.rvm/rubies/ruby-2.6.5/bin:/home/travis/gopath/bin:/home/travis/.gimme/versions/go1.11.1.linux.amd64/bin:/usr/local/maven-3.6.3/bin:/usr/local/cmake-3.12.4/bin:/usr/local/clang-7.0.0/bin:/usr/local/sbin:/usr/local/bin:/usr/sbin:/usr/bin:/sbin:/bin:/snap/bin:/home/travis/.rvm/bin:/home/travis/.phpenv/bin:/opt/pyenv/bin:/home/travis/.yarn/bin\",\n",
      "            \"LD_LIBRARY_PATH\": null,\n",
      "            \"DYLD_LIBRARY_PATH\": null,\n",
      "            \"USER\": \"travis\",\n",
      "            \"HOME\": \"/home/travis\",\n",
      "            \"SHELL\": \"/bin/bash\"\n",
      "         },\n",
      "         \"arguments\": [\n",
      "            \"/home/travis/virtualenv/python3.7.6/lib/python3.7/site-packages/ipykernel_launcher.py\",\n",
      "            \"-f\",\n",
      "            \"/tmp/tmpne206ij1.json\",\n",
      "            \"--HistoryManager.hist_file=:memory:\"\n",
      "         ],\n",
      "         \"start_time_utc\": \"2020-07-05T11:43:47.388\"\n",
      "      },\n",
      "      \"input\": [],\n",
      "      \"output\": [],\n",
      "      \"config\": {\n",
      "         \"MyTool\": {\n",
      "            \"config_file\": null,\n",
      "            \"iterations\": 5,\n",
      "            \"log_datefmt\": \"%Y-%m-%d %H:%M:%S\",\n",
      "            \"log_format\": \"%(levelname)s [%(name)s] (%(module)s/%(funcName)s): %(message)s\",\n",
      "            \"log_level\": 20\n",
      "         },\n",
      "         \"MyComponent\": {\n",
      "            \"value\": -1\n",
      "         },\n",
      "         \"SecondaryMyComponent\": {\n",
      "            \"value\": -1\n",
      "         },\n",
      "         \"AdvancedComponent\": {\n",
      "            \"infile\": null,\n",
      "            \"outfile\": null,\n",
      "            \"value1\": -1\n",
      "         },\n",
      "         \"TelescopeWiseComponent\": {\n",
      "            \"param\": [\n",
      "               [\n",
      "                  \"type\",\n",
      "                  \"*\",\n",
      "                  5.0\n",
      "               ]\n",
      "            ]\n",
      "         }\n",
      "      },\n",
      "      \"status\": \"completed\",\n",
      "      \"duration_min\": 0.008733333333310611\n",
      "   },\n",
      "   {\n",
      "      \"activity_name\": \"mytool\",\n",
      "      \"activity_uuid\": \"ff2027c2-cca6-409e-9356-b083a83b04d6\",\n",
      "      \"start\": {\n",
      "         \"time_utc\": \"2020-07-05T11:43:47.923\"\n",
      "      },\n",
      "      \"stop\": {\n",
      "         \"time_utc\": \"2020-07-05T11:43:48.244\"\n",
      "      },\n",
      "      \"system\": {\n",
      "         \"ctapipe_version\": \"0.8.0.post10+git262b6aa\",\n",
      "         \"ctapipe_resources_version\": \"0.3.0\",\n",
      "         \"eventio_version\": \"1.4.1\",\n",
      "         \"ctapipe_svc_path\": null,\n",
      "         \"executable\": \"/home/travis/virtualenv/python3.7.6/bin/python\",\n",
      "         \"platform\": {\n",
      "            \"architecture_bits\": \"64bit\",\n",
      "            \"architecture_linkage\": \"\",\n",
      "            \"machine\": \"x86_64\",\n",
      "            \"processor\": \"x86_64\",\n",
      "            \"node\": \"travis-job-dac37d3b-4b29-49d5-812a-4e9dcbe13e8e\",\n",
      "            \"version\": \"#32-Ubuntu SMP Tue Feb 11 03:55:48 UTC 2020\",\n",
      "            \"system\": \"Linux\",\n",
      "            \"release\": \"5.0.0-1031-gcp\",\n",
      "            \"libcver\": [\n",
      "               \"glibc\",\n",
      "               \"2.2.5\"\n",
      "            ],\n",
      "            \"num_cpus\": 2,\n",
      "            \"boot_time\": \"2020-07-05T11:34:13.000\"\n",
      "         },\n",
      "         \"python\": {\n",
      "            \"version_string\": \"3.7.6 (default, Dec 21 2019, 10:36:56) \\n[GCC 7.4.0]\",\n",
      "            \"version\": [\n",
      "               \"3\",\n",
      "               \"7\",\n",
      "               \"6\"\n",
      "            ],\n",
      "            \"compiler\": \"GCC 7.4.0\",\n",
      "            \"implementation\": \"CPython\"\n",
      "         },\n",
      "         \"environment\": {\n",
      "            \"CONDA_DEFAULT_ENV\": null,\n",
      "            \"CONDA_PREFIX\": null,\n",
      "            \"CONDA_PYTHON_EXE\": null,\n",
      "            \"CONDA_EXE\": null,\n",
      "            \"CONDA_PROMPT_MODIFIER\": null,\n",
      "            \"CONDA_SHLVL\": null,\n",
      "            \"PATH\": \"/home/travis/virtualenv/python3.7.6/bin:/home/travis/bin:/home/travis/.local/bin:/usr/local/lib/jvm/openjdk11/bin:/opt/pyenv/shims:/home/travis/.phpenv/shims:/home/travis/perl5/perlbrew/bin:/home/travis/.nvm/versions/node/v10.16.0/bin:/home/travis/.kiex/elixirs/elixir-1.7.4/bin:/home/travis/.kiex/bin:/home/travis/.rvm/gems/ruby-2.6.5/bin:/home/travis/.rvm/gems/ruby-2.6.5@global/bin:/home/travis/.rvm/rubies/ruby-2.6.5/bin:/home/travis/gopath/bin:/home/travis/.gimme/versions/go1.11.1.linux.amd64/bin:/usr/local/maven-3.6.3/bin:/usr/local/cmake-3.12.4/bin:/usr/local/clang-7.0.0/bin:/usr/local/sbin:/usr/local/bin:/usr/sbin:/usr/bin:/sbin:/bin:/snap/bin:/home/travis/.rvm/bin:/home/travis/.phpenv/bin:/opt/pyenv/bin:/home/travis/.yarn/bin\",\n",
      "            \"LD_LIBRARY_PATH\": null,\n",
      "            \"DYLD_LIBRARY_PATH\": null,\n",
      "            \"USER\": \"travis\",\n",
      "            \"HOME\": \"/home/travis\",\n",
      "            \"SHELL\": \"/bin/bash\"\n",
      "         },\n",
      "         \"arguments\": [\n",
      "            \"/home/travis/virtualenv/python3.7.6/lib/python3.7/site-packages/ipykernel_launcher.py\",\n",
      "            \"-f\",\n",
      "            \"/tmp/tmpne206ij1.json\",\n",
      "            \"--HistoryManager.hist_file=:memory:\"\n",
      "         ],\n",
      "         \"start_time_utc\": \"2020-07-05T11:43:47.933\"\n",
      "      },\n",
      "      \"input\": [],\n",
      "      \"output\": [],\n",
      "      \"config\": {\n",
      "         \"MyTool\": {\n",
      "            \"config_file\": null,\n",
      "            \"iterations\": 3,\n",
      "            \"log_datefmt\": \"%Y-%m-%d %H:%M:%S\",\n",
      "            \"log_format\": \"%(asctime)s : %(levelname)s [%(name)s %(funcName)s] %(message)s\",\n",
      "            \"log_level\": 20\n",
      "         },\n",
      "         \"MyComponent\": {\n",
      "            \"value\": -1\n",
      "         },\n",
      "         \"SecondaryMyComponent\": {\n",
      "            \"value\": -1\n",
      "         },\n",
      "         \"AdvancedComponent\": {\n",
      "            \"infile\": null,\n",
      "            \"outfile\": null,\n",
      "            \"value1\": -1\n",
      "         },\n",
      "         \"TelescopeWiseComponent\": {\n",
      "            \"param\": [\n",
      "               [\n",
      "                  \"type\",\n",
      "                  \"*\",\n",
      "                  5.0\n",
      "               ]\n",
      "            ]\n",
      "         }\n",
      "      },\n",
      "      \"status\": \"completed\",\n",
      "      \"duration_min\": 0.005349999999975097\n",
      "   },\n",
      "   {\n",
      "      \"activity_name\": \"mytool\",\n",
      "      \"activity_uuid\": \"40cb5bea-2f3c-475d-b068-18aaf20d051e\",\n",
      "      \"start\": {\n",
      "         \"time_utc\": \"2020-07-05T11:43:48.268\"\n",
      "      },\n",
      "      \"stop\": {\n",
      "         \"time_utc\": \"2020-07-05T11:43:48.595\"\n",
      "      },\n",
      "      \"system\": {\n",
      "         \"ctapipe_version\": \"0.8.0.post10+git262b6aa\",\n",
      "         \"ctapipe_resources_version\": \"0.3.0\",\n",
      "         \"eventio_version\": \"1.4.1\",\n",
      "         \"ctapipe_svc_path\": null,\n",
      "         \"executable\": \"/home/travis/virtualenv/python3.7.6/bin/python\",\n",
      "         \"platform\": {\n",
      "            \"architecture_bits\": \"64bit\",\n",
      "            \"architecture_linkage\": \"\",\n",
      "            \"machine\": \"x86_64\",\n",
      "            \"processor\": \"x86_64\",\n",
      "            \"node\": \"travis-job-dac37d3b-4b29-49d5-812a-4e9dcbe13e8e\",\n",
      "            \"version\": \"#32-Ubuntu SMP Tue Feb 11 03:55:48 UTC 2020\",\n",
      "            \"system\": \"Linux\",\n",
      "            \"release\": \"5.0.0-1031-gcp\",\n",
      "            \"libcver\": [\n",
      "               \"glibc\",\n",
      "               \"2.2.5\"\n",
      "            ],\n",
      "            \"num_cpus\": 2,\n",
      "            \"boot_time\": \"2020-07-05T11:34:13.000\"\n",
      "         },\n",
      "         \"python\": {\n",
      "            \"version_string\": \"3.7.6 (default, Dec 21 2019, 10:36:56) \\n[GCC 7.4.0]\",\n",
      "            \"version\": [\n",
      "               \"3\",\n",
      "               \"7\",\n",
      "               \"6\"\n",
      "            ],\n",
      "            \"compiler\": \"GCC 7.4.0\",\n",
      "            \"implementation\": \"CPython\"\n",
      "         },\n",
      "         \"environment\": {\n",
      "            \"CONDA_DEFAULT_ENV\": null,\n",
      "            \"CONDA_PREFIX\": null,\n",
      "            \"CONDA_PYTHON_EXE\": null,\n",
      "            \"CONDA_EXE\": null,\n",
      "            \"CONDA_PROMPT_MODIFIER\": null,\n",
      "            \"CONDA_SHLVL\": null,\n",
      "            \"PATH\": \"/home/travis/virtualenv/python3.7.6/bin:/home/travis/bin:/home/travis/.local/bin:/usr/local/lib/jvm/openjdk11/bin:/opt/pyenv/shims:/home/travis/.phpenv/shims:/home/travis/perl5/perlbrew/bin:/home/travis/.nvm/versions/node/v10.16.0/bin:/home/travis/.kiex/elixirs/elixir-1.7.4/bin:/home/travis/.kiex/bin:/home/travis/.rvm/gems/ruby-2.6.5/bin:/home/travis/.rvm/gems/ruby-2.6.5@global/bin:/home/travis/.rvm/rubies/ruby-2.6.5/bin:/home/travis/gopath/bin:/home/travis/.gimme/versions/go1.11.1.linux.amd64/bin:/usr/local/maven-3.6.3/bin:/usr/local/cmake-3.12.4/bin:/usr/local/clang-7.0.0/bin:/usr/local/sbin:/usr/local/bin:/usr/sbin:/usr/bin:/sbin:/bin:/snap/bin:/home/travis/.rvm/bin:/home/travis/.phpenv/bin:/opt/pyenv/bin:/home/travis/.yarn/bin\",\n",
      "            \"LD_LIBRARY_PATH\": null,\n",
      "            \"DYLD_LIBRARY_PATH\": null,\n",
      "            \"USER\": \"travis\",\n",
      "            \"HOME\": \"/home/travis\",\n",
      "            \"SHELL\": \"/bin/bash\"\n",
      "         },\n",
      "         \"arguments\": [\n",
      "            \"/home/travis/virtualenv/python3.7.6/lib/python3.7/site-packages/ipykernel_launcher.py\",\n",
      "            \"-f\",\n",
      "            \"/tmp/tmpne206ij1.json\",\n",
      "            \"--HistoryManager.hist_file=:memory:\"\n",
      "         ],\n",
      "         \"start_time_utc\": \"2020-07-05T11:43:48.277\"\n",
      "      },\n",
      "      \"input\": [],\n",
      "      \"output\": [],\n",
      "      \"config\": {\n",
      "         \"MyTool\": {\n",
      "            \"config_file\": null,\n",
      "            \"iterations\": 3,\n",
      "            \"log_datefmt\": \"%Y-%m-%d %H:%M:%S\",\n",
      "            \"log_format\": \"%(asctime)s : %(levelname)s [%(name)s %(funcName)s] %(message)s\",\n",
      "            \"log_level\": 10\n",
      "         },\n",
      "         \"MyComponent\": {\n",
      "            \"value\": -1\n",
      "         },\n",
      "         \"SecondaryMyComponent\": {\n",
      "            \"value\": -1\n",
      "         },\n",
      "         \"AdvancedComponent\": {\n",
      "            \"infile\": null,\n",
      "            \"outfile\": null,\n",
      "            \"value1\": -1\n",
      "         },\n",
      "         \"TelescopeWiseComponent\": {\n",
      "            \"param\": [\n",
      "               [\n",
      "                  \"type\",\n",
      "                  \"*\",\n",
      "                  5.0\n",
      "               ]\n",
      "            ]\n",
      "         }\n",
      "      },\n",
      "      \"status\": \"completed\",\n",
      "      \"duration_min\": 0.005450000000095656\n",
      "   }\n",
      "]'\n"
     ]
    },
    {
     "name": "stderr",
     "output_type": "stream",
     "text": [
      "2020-07-05 11:43:48 : \u001b[1;34mDEBUG\u001b[0m [MyTool exit] Exiting application: mytool\n"
     ]
    }
   ],
   "source": [
    "try:\n",
    "    tool.run(argv=['--log-level','DEBUG','--infile', GAMMA_FILE])\n",
    "except SystemExit as e:\n",
    "    assert e.code == 0, f'Tool returned with error status {e}'"
   ]
  },
  {
   "cell_type": "markdown",
   "metadata": {},
   "source": [
    "you can also set parameters directly in the class, rather than using the argument/configfile parser. This is useful if you are calling the Tool from a script rather than the command-line"
   ]
  },
  {
   "cell_type": "code",
   "execution_count": 15,
   "metadata": {
    "scrolled": false
   },
   "outputs": [
    {
     "name": "stderr",
     "output_type": "stream",
     "text": [
      "2020-07-05 11:43:48 : \u001b[1;34mDEBUG\u001b[0m [MyTool _config_changed] Config changed:\n"
     ]
    },
    {
     "name": "stderr",
     "output_type": "stream",
     "text": [
      "2020-07-05 11:43:48 : \u001b[1;34mDEBUG\u001b[0m [MyTool _config_changed] {'AdvancedComponent': {'infile': '/home/travis/virtualenv/python3.7.6/lib/python3.7/site-packages/ctapipe_resources/gamma_test.simtel.gz'}, 'attach_subarray': <traitlets.config.loader.LazyConfigValue object at 0x7ff6c77fbdd0>, 'MyTool': {'log_level': 'DEBUG', 'iterations': 3}}\n"
     ]
    },
    {
     "name": "stderr",
     "output_type": "stream",
     "text": [
      "2020-07-05 11:43:48 : \u001b[1;32mINFO\u001b[0m [MyTool initialize] ctapipe version 0.8.0.post10+git262b6aa\n"
     ]
    },
    {
     "name": "stderr",
     "output_type": "stream",
     "text": [
      "2020-07-05 11:43:48 : \u001b[1;34mDEBUG\u001b[0m [MyTool _config_changed] Config changed:\n"
     ]
    },
    {
     "name": "stderr",
     "output_type": "stream",
     "text": [
      "2020-07-05 11:43:48 : \u001b[1;34mDEBUG\u001b[0m [MyTool _config_changed] {'AdvancedComponent': {'infile': '/home/travis/virtualenv/python3.7.6/lib/python3.7/site-packages/ctapipe_resources/gamma_test.simtel.gz'}, 'attach_subarray': <traitlets.config.loader.LazyConfigValue object at 0x7ff6c7870fd0>, 'MyTool': {'log_level': 'DEBUG', 'iterations': 3}}\n"
     ]
    },
    {
     "name": "stderr",
     "output_type": "stream",
     "text": [
      "2020-07-05 11:43:48 : \u001b[1;32mINFO\u001b[0m [MyTool run] Starting: mytool\n"
     ]
    },
    {
     "name": "stderr",
     "output_type": "stream",
     "text": [
      "2020-07-05 11:43:48 : \u001b[1;34mDEBUG\u001b[0m [MyTool run] CONFIG: {'MyTool': {'config_file': None, 'iterations': 3, 'log_datefmt': '%Y-%m-%d %H:%M:%S', 'log_format': '%(asctime)s : %(levelname)s [%(name)s %(funcName)s] %(message)s', 'log_level': 10}, 'MyComponent': {'value': -1}, 'SecondaryMyComponent': {'value': -1}, 'AdvancedComponent': {'infile': PosixPath('/home/travis/virtualenv/python3.7.6/lib/python3.7/site-packages/ctapipe_resources/gamma_test.simtel.gz'), 'outfile': None, 'value1': -1}, 'TelescopeWiseComponent': {'param': [('type', '*', 5.0)]}}\n"
     ]
    },
    {
     "name": "stderr",
     "output_type": "stream",
     "text": [
      "2020-07-05 11:43:48 : \u001b[1;32mINFO\u001b[0m [MyTool start] Performing 3 iterations...\n"
     ]
    },
    {
     "name": "stderr",
     "output_type": "stream",
     "text": [
      "2020-07-05 11:43:48 : \u001b[1;32mINFO\u001b[0m [MyTool start] ITERATION 0\n"
     ]
    },
    {
     "name": "stderr",
     "output_type": "stream",
     "text": [
      "2020-07-05 11:43:48 : \u001b[1;34mDEBUG\u001b[0m [MyTool.MyComponent do_thing] Did thing\n"
     ]
    },
    {
     "name": "stderr",
     "output_type": "stream",
     "text": [
      "2020-07-05 11:43:48 : \u001b[1;34mDEBUG\u001b[0m [MyTool.SecondaryMyComponent do_thing] Did thing\n"
     ]
    },
    {
     "name": "stderr",
     "output_type": "stream",
     "text": [
      "2020-07-05 11:43:48 : \u001b[1;32mINFO\u001b[0m [MyTool start] ITERATION 1\n"
     ]
    },
    {
     "name": "stderr",
     "output_type": "stream",
     "text": [
      "2020-07-05 11:43:48 : \u001b[1;34mDEBUG\u001b[0m [MyTool.MyComponent do_thing] Did thing\n"
     ]
    },
    {
     "name": "stderr",
     "output_type": "stream",
     "text": [
      "2020-07-05 11:43:48 : \u001b[1;34mDEBUG\u001b[0m [MyTool.SecondaryMyComponent do_thing] Did thing\n"
     ]
    },
    {
     "name": "stderr",
     "output_type": "stream",
     "text": [
      "2020-07-05 11:43:48 : \u001b[1;32mINFO\u001b[0m [MyTool start] ITERATION 2\n"
     ]
    },
    {
     "name": "stderr",
     "output_type": "stream",
     "text": [
      "2020-07-05 11:43:48 : \u001b[1;34mDEBUG\u001b[0m [MyTool.MyComponent do_thing] Did thing\n"
     ]
    },
    {
     "name": "stderr",
     "output_type": "stream",
     "text": [
      "2020-07-05 11:43:48 : \u001b[1;34mDEBUG\u001b[0m [MyTool.SecondaryMyComponent do_thing] Did thing\n"
     ]
    },
    {
     "name": "stderr",
     "output_type": "stream",
     "text": [
      "2020-07-05 11:43:48 : \u001b[1;33mWARNING\u001b[0m [MyTool finish] Shutting down.\n"
     ]
    },
    {
     "name": "stderr",
     "output_type": "stream",
     "text": [
      "2020-07-05 11:43:48 : \u001b[1;32mINFO\u001b[0m [MyTool run] Finished: mytool\n"
     ]
    },
    {
     "name": "stderr",
     "output_type": "stream",
     "text": [
      "2020-07-05 11:43:48 : \u001b[1;32mINFO\u001b[0m [MyTool run] Output: \n"
     ]
    },
    {
     "name": "stderr",
     "output_type": "stream",
     "text": [
      "2020-07-05 11:43:48 : \u001b[1;32mINFO\u001b[0m [MyTool run] Output: \n"
     ]
    },
    {
     "name": "stderr",
     "output_type": "stream",
     "text": [
      "2020-07-05 11:43:48 : \u001b[1;32mINFO\u001b[0m [MyTool run] Output: \n"
     ]
    },
    {
     "name": "stderr",
     "output_type": "stream",
     "text": [
      "2020-07-05 11:43:48 : \u001b[1;32mINFO\u001b[0m [MyTool run] Output: \n"
     ]
    },
    {
     "name": "stderr",
     "output_type": "stream",
     "text": [
      "2020-07-05 11:43:48 : \u001b[1;34mDEBUG\u001b[0m [MyTool run] PROVENANCE: '[\n",
      "   {\n",
      "      \"activity_name\": \"mytool\",\n",
      "      \"activity_uuid\": \"19a8f593-086d-4dfe-ba8b-1011534e7726\",\n",
      "      \"start\": {\n",
      "         \"time_utc\": \"2020-07-05T11:43:47.377\"\n",
      "      },\n",
      "      \"stop\": {\n",
      "         \"time_utc\": \"2020-07-05T11:43:47.901\"\n",
      "      },\n",
      "      \"system\": {\n",
      "         \"ctapipe_version\": \"0.8.0.post10+git262b6aa\",\n",
      "         \"ctapipe_resources_version\": \"0.3.0\",\n",
      "         \"eventio_version\": \"1.4.1\",\n",
      "         \"ctapipe_svc_path\": null,\n",
      "         \"executable\": \"/home/travis/virtualenv/python3.7.6/bin/python\",\n",
      "         \"platform\": {\n",
      "            \"architecture_bits\": \"64bit\",\n",
      "            \"architecture_linkage\": \"\",\n",
      "            \"machine\": \"x86_64\",\n",
      "            \"processor\": \"x86_64\",\n",
      "            \"node\": \"travis-job-dac37d3b-4b29-49d5-812a-4e9dcbe13e8e\",\n",
      "            \"version\": \"#32-Ubuntu SMP Tue Feb 11 03:55:48 UTC 2020\",\n",
      "            \"system\": \"Linux\",\n",
      "            \"release\": \"5.0.0-1031-gcp\",\n",
      "            \"libcver\": [\n",
      "               \"glibc\",\n",
      "               \"2.2.5\"\n",
      "            ],\n",
      "            \"num_cpus\": 2,\n",
      "            \"boot_time\": \"2020-07-05T11:34:13.000\"\n",
      "         },\n",
      "         \"python\": {\n",
      "            \"version_string\": \"3.7.6 (default, Dec 21 2019, 10:36:56) \\n[GCC 7.4.0]\",\n",
      "            \"version\": [\n",
      "               \"3\",\n",
      "               \"7\",\n",
      "               \"6\"\n",
      "            ],\n",
      "            \"compiler\": \"GCC 7.4.0\",\n",
      "            \"implementation\": \"CPython\"\n",
      "         },\n",
      "         \"environment\": {\n",
      "            \"CONDA_DEFAULT_ENV\": null,\n",
      "            \"CONDA_PREFIX\": null,\n",
      "            \"CONDA_PYTHON_EXE\": null,\n",
      "            \"CONDA_EXE\": null,\n",
      "            \"CONDA_PROMPT_MODIFIER\": null,\n",
      "            \"CONDA_SHLVL\": null,\n",
      "            \"PATH\": \"/home/travis/virtualenv/python3.7.6/bin:/home/travis/bin:/home/travis/.local/bin:/usr/local/lib/jvm/openjdk11/bin:/opt/pyenv/shims:/home/travis/.phpenv/shims:/home/travis/perl5/perlbrew/bin:/home/travis/.nvm/versions/node/v10.16.0/bin:/home/travis/.kiex/elixirs/elixir-1.7.4/bin:/home/travis/.kiex/bin:/home/travis/.rvm/gems/ruby-2.6.5/bin:/home/travis/.rvm/gems/ruby-2.6.5@global/bin:/home/travis/.rvm/rubies/ruby-2.6.5/bin:/home/travis/gopath/bin:/home/travis/.gimme/versions/go1.11.1.linux.amd64/bin:/usr/local/maven-3.6.3/bin:/usr/local/cmake-3.12.4/bin:/usr/local/clang-7.0.0/bin:/usr/local/sbin:/usr/local/bin:/usr/sbin:/usr/bin:/sbin:/bin:/snap/bin:/home/travis/.rvm/bin:/home/travis/.phpenv/bin:/opt/pyenv/bin:/home/travis/.yarn/bin\",\n",
      "            \"LD_LIBRARY_PATH\": null,\n",
      "            \"DYLD_LIBRARY_PATH\": null,\n",
      "            \"USER\": \"travis\",\n",
      "            \"HOME\": \"/home/travis\",\n",
      "            \"SHELL\": \"/bin/bash\"\n",
      "         },\n",
      "         \"arguments\": [\n",
      "            \"/home/travis/virtualenv/python3.7.6/lib/python3.7/site-packages/ipykernel_launcher.py\",\n",
      "            \"-f\",\n",
      "            \"/tmp/tmpne206ij1.json\",\n",
      "            \"--HistoryManager.hist_file=:memory:\"\n",
      "         ],\n",
      "         \"start_time_utc\": \"2020-07-05T11:43:47.388\"\n",
      "      },\n",
      "      \"input\": [],\n",
      "      \"output\": [],\n",
      "      \"config\": {\n",
      "         \"MyTool\": {\n",
      "            \"config_file\": null,\n",
      "            \"iterations\": 5,\n",
      "            \"log_datefmt\": \"%Y-%m-%d %H:%M:%S\",\n",
      "            \"log_format\": \"%(levelname)s [%(name)s] (%(module)s/%(funcName)s): %(message)s\",\n",
      "            \"log_level\": 20\n",
      "         },\n",
      "         \"MyComponent\": {\n",
      "            \"value\": -1\n",
      "         },\n",
      "         \"SecondaryMyComponent\": {\n",
      "            \"value\": -1\n",
      "         },\n",
      "         \"AdvancedComponent\": {\n",
      "            \"infile\": null,\n",
      "            \"outfile\": null,\n",
      "            \"value1\": -1\n",
      "         },\n",
      "         \"TelescopeWiseComponent\": {\n",
      "            \"param\": [\n",
      "               [\n",
      "                  \"type\",\n",
      "                  \"*\",\n",
      "                  5.0\n",
      "               ]\n",
      "            ]\n",
      "         }\n",
      "      },\n",
      "      \"status\": \"completed\",\n",
      "      \"duration_min\": 0.008733333333310611\n",
      "   },\n",
      "   {\n",
      "      \"activity_name\": \"mytool\",\n",
      "      \"activity_uuid\": \"ff2027c2-cca6-409e-9356-b083a83b04d6\",\n",
      "      \"start\": {\n",
      "         \"time_utc\": \"2020-07-05T11:43:47.923\"\n",
      "      },\n",
      "      \"stop\": {\n",
      "         \"time_utc\": \"2020-07-05T11:43:48.244\"\n",
      "      },\n",
      "      \"system\": {\n",
      "         \"ctapipe_version\": \"0.8.0.post10+git262b6aa\",\n",
      "         \"ctapipe_resources_version\": \"0.3.0\",\n",
      "         \"eventio_version\": \"1.4.1\",\n",
      "         \"ctapipe_svc_path\": null,\n",
      "         \"executable\": \"/home/travis/virtualenv/python3.7.6/bin/python\",\n",
      "         \"platform\": {\n",
      "            \"architecture_bits\": \"64bit\",\n",
      "            \"architecture_linkage\": \"\",\n",
      "            \"machine\": \"x86_64\",\n",
      "            \"processor\": \"x86_64\",\n",
      "            \"node\": \"travis-job-dac37d3b-4b29-49d5-812a-4e9dcbe13e8e\",\n",
      "            \"version\": \"#32-Ubuntu SMP Tue Feb 11 03:55:48 UTC 2020\",\n",
      "            \"system\": \"Linux\",\n",
      "            \"release\": \"5.0.0-1031-gcp\",\n",
      "            \"libcver\": [\n",
      "               \"glibc\",\n",
      "               \"2.2.5\"\n",
      "            ],\n",
      "            \"num_cpus\": 2,\n",
      "            \"boot_time\": \"2020-07-05T11:34:13.000\"\n",
      "         },\n",
      "         \"python\": {\n",
      "            \"version_string\": \"3.7.6 (default, Dec 21 2019, 10:36:56) \\n[GCC 7.4.0]\",\n",
      "            \"version\": [\n",
      "               \"3\",\n",
      "               \"7\",\n",
      "               \"6\"\n",
      "            ],\n",
      "            \"compiler\": \"GCC 7.4.0\",\n",
      "            \"implementation\": \"CPython\"\n",
      "         },\n",
      "         \"environment\": {\n",
      "            \"CONDA_DEFAULT_ENV\": null,\n",
      "            \"CONDA_PREFIX\": null,\n",
      "            \"CONDA_PYTHON_EXE\": null,\n",
      "            \"CONDA_EXE\": null,\n",
      "            \"CONDA_PROMPT_MODIFIER\": null,\n",
      "            \"CONDA_SHLVL\": null,\n",
      "            \"PATH\": \"/home/travis/virtualenv/python3.7.6/bin:/home/travis/bin:/home/travis/.local/bin:/usr/local/lib/jvm/openjdk11/bin:/opt/pyenv/shims:/home/travis/.phpenv/shims:/home/travis/perl5/perlbrew/bin:/home/travis/.nvm/versions/node/v10.16.0/bin:/home/travis/.kiex/elixirs/elixir-1.7.4/bin:/home/travis/.kiex/bin:/home/travis/.rvm/gems/ruby-2.6.5/bin:/home/travis/.rvm/gems/ruby-2.6.5@global/bin:/home/travis/.rvm/rubies/ruby-2.6.5/bin:/home/travis/gopath/bin:/home/travis/.gimme/versions/go1.11.1.linux.amd64/bin:/usr/local/maven-3.6.3/bin:/usr/local/cmake-3.12.4/bin:/usr/local/clang-7.0.0/bin:/usr/local/sbin:/usr/local/bin:/usr/sbin:/usr/bin:/sbin:/bin:/snap/bin:/home/travis/.rvm/bin:/home/travis/.phpenv/bin:/opt/pyenv/bin:/home/travis/.yarn/bin\",\n",
      "            \"LD_LIBRARY_PATH\": null,\n",
      "            \"DYLD_LIBRARY_PATH\": null,\n",
      "            \"USER\": \"travis\",\n",
      "            \"HOME\": \"/home/travis\",\n",
      "            \"SHELL\": \"/bin/bash\"\n",
      "         },\n",
      "         \"arguments\": [\n",
      "            \"/home/travis/virtualenv/python3.7.6/lib/python3.7/site-packages/ipykernel_launcher.py\",\n",
      "            \"-f\",\n",
      "            \"/tmp/tmpne206ij1.json\",\n",
      "            \"--HistoryManager.hist_file=:memory:\"\n",
      "         ],\n",
      "         \"start_time_utc\": \"2020-07-05T11:43:47.933\"\n",
      "      },\n",
      "      \"input\": [],\n",
      "      \"output\": [],\n",
      "      \"config\": {\n",
      "         \"MyTool\": {\n",
      "            \"config_file\": null,\n",
      "            \"iterations\": 3,\n",
      "            \"log_datefmt\": \"%Y-%m-%d %H:%M:%S\",\n",
      "            \"log_format\": \"%(asctime)s : %(levelname)s [%(name)s %(funcName)s] %(message)s\",\n",
      "            \"log_level\": 20\n",
      "         },\n",
      "         \"MyComponent\": {\n",
      "            \"value\": -1\n",
      "         },\n",
      "         \"SecondaryMyComponent\": {\n",
      "            \"value\": -1\n",
      "         },\n",
      "         \"AdvancedComponent\": {\n",
      "            \"infile\": null,\n",
      "            \"outfile\": null,\n",
      "            \"value1\": -1\n",
      "         },\n",
      "         \"TelescopeWiseComponent\": {\n",
      "            \"param\": [\n",
      "               [\n",
      "                  \"type\",\n",
      "                  \"*\",\n",
      "                  5.0\n",
      "               ]\n",
      "            ]\n",
      "         }\n",
      "      },\n",
      "      \"status\": \"completed\",\n",
      "      \"duration_min\": 0.005349999999975097\n",
      "   },\n",
      "   {\n",
      "      \"activity_name\": \"mytool\",\n",
      "      \"activity_uuid\": \"40cb5bea-2f3c-475d-b068-18aaf20d051e\",\n",
      "      \"start\": {\n",
      "         \"time_utc\": \"2020-07-05T11:43:48.268\"\n",
      "      },\n",
      "      \"stop\": {\n",
      "         \"time_utc\": \"2020-07-05T11:43:48.595\"\n",
      "      },\n",
      "      \"system\": {\n",
      "         \"ctapipe_version\": \"0.8.0.post10+git262b6aa\",\n",
      "         \"ctapipe_resources_version\": \"0.3.0\",\n",
      "         \"eventio_version\": \"1.4.1\",\n",
      "         \"ctapipe_svc_path\": null,\n",
      "         \"executable\": \"/home/travis/virtualenv/python3.7.6/bin/python\",\n",
      "         \"platform\": {\n",
      "            \"architecture_bits\": \"64bit\",\n",
      "            \"architecture_linkage\": \"\",\n",
      "            \"machine\": \"x86_64\",\n",
      "            \"processor\": \"x86_64\",\n",
      "            \"node\": \"travis-job-dac37d3b-4b29-49d5-812a-4e9dcbe13e8e\",\n",
      "            \"version\": \"#32-Ubuntu SMP Tue Feb 11 03:55:48 UTC 2020\",\n",
      "            \"system\": \"Linux\",\n",
      "            \"release\": \"5.0.0-1031-gcp\",\n",
      "            \"libcver\": [\n",
      "               \"glibc\",\n",
      "               \"2.2.5\"\n",
      "            ],\n",
      "            \"num_cpus\": 2,\n",
      "            \"boot_time\": \"2020-07-05T11:34:13.000\"\n",
      "         },\n",
      "         \"python\": {\n",
      "            \"version_string\": \"3.7.6 (default, Dec 21 2019, 10:36:56) \\n[GCC 7.4.0]\",\n",
      "            \"version\": [\n",
      "               \"3\",\n",
      "               \"7\",\n",
      "               \"6\"\n",
      "            ],\n",
      "            \"compiler\": \"GCC 7.4.0\",\n",
      "            \"implementation\": \"CPython\"\n",
      "         },\n",
      "         \"environment\": {\n",
      "            \"CONDA_DEFAULT_ENV\": null,\n",
      "            \"CONDA_PREFIX\": null,\n",
      "            \"CONDA_PYTHON_EXE\": null,\n",
      "            \"CONDA_EXE\": null,\n",
      "            \"CONDA_PROMPT_MODIFIER\": null,\n",
      "            \"CONDA_SHLVL\": null,\n",
      "            \"PATH\": \"/home/travis/virtualenv/python3.7.6/bin:/home/travis/bin:/home/travis/.local/bin:/usr/local/lib/jvm/openjdk11/bin:/opt/pyenv/shims:/home/travis/.phpenv/shims:/home/travis/perl5/perlbrew/bin:/home/travis/.nvm/versions/node/v10.16.0/bin:/home/travis/.kiex/elixirs/elixir-1.7.4/bin:/home/travis/.kiex/bin:/home/travis/.rvm/gems/ruby-2.6.5/bin:/home/travis/.rvm/gems/ruby-2.6.5@global/bin:/home/travis/.rvm/rubies/ruby-2.6.5/bin:/home/travis/gopath/bin:/home/travis/.gimme/versions/go1.11.1.linux.amd64/bin:/usr/local/maven-3.6.3/bin:/usr/local/cmake-3.12.4/bin:/usr/local/clang-7.0.0/bin:/usr/local/sbin:/usr/local/bin:/usr/sbin:/usr/bin:/sbin:/bin:/snap/bin:/home/travis/.rvm/bin:/home/travis/.phpenv/bin:/opt/pyenv/bin:/home/travis/.yarn/bin\",\n",
      "            \"LD_LIBRARY_PATH\": null,\n",
      "            \"DYLD_LIBRARY_PATH\": null,\n",
      "            \"USER\": \"travis\",\n",
      "            \"HOME\": \"/home/travis\",\n",
      "            \"SHELL\": \"/bin/bash\"\n",
      "         },\n",
      "         \"arguments\": [\n",
      "            \"/home/travis/virtualenv/python3.7.6/lib/python3.7/site-packages/ipykernel_launcher.py\",\n",
      "            \"-f\",\n",
      "            \"/tmp/tmpne206ij1.json\",\n",
      "            \"--HistoryManager.hist_file=:memory:\"\n",
      "         ],\n",
      "         \"start_time_utc\": \"2020-07-05T11:43:48.277\"\n",
      "      },\n",
      "      \"input\": [],\n",
      "      \"output\": [],\n",
      "      \"config\": {\n",
      "         \"MyTool\": {\n",
      "            \"config_file\": null,\n",
      "            \"iterations\": 3,\n",
      "            \"log_datefmt\": \"%Y-%m-%d %H:%M:%S\",\n",
      "            \"log_format\": \"%(asctime)s : %(levelname)s [%(name)s %(funcName)s] %(message)s\",\n",
      "            \"log_level\": 10\n",
      "         },\n",
      "         \"MyComponent\": {\n",
      "            \"value\": -1\n",
      "         },\n",
      "         \"SecondaryMyComponent\": {\n",
      "            \"value\": -1\n",
      "         },\n",
      "         \"AdvancedComponent\": {\n",
      "            \"infile\": null,\n",
      "            \"outfile\": null,\n",
      "            \"value1\": -1\n",
      "         },\n",
      "         \"TelescopeWiseComponent\": {\n",
      "            \"param\": [\n",
      "               [\n",
      "                  \"type\",\n",
      "                  \"*\",\n",
      "                  5.0\n",
      "               ]\n",
      "            ]\n",
      "         }\n",
      "      },\n",
      "      \"status\": \"completed\",\n",
      "      \"duration_min\": 0.005450000000095656\n",
      "   },\n",
      "   {\n",
      "      \"activity_name\": \"mytool\",\n",
      "      \"activity_uuid\": \"9524262d-2211-4a3f-bd1d-407818217be2\",\n",
      "      \"start\": {\n",
      "         \"time_utc\": \"2020-07-05T11:43:48.628\"\n",
      "      },\n",
      "      \"stop\": {\n",
      "         \"time_utc\": \"2020-07-05T11:43:48.954\"\n",
      "      },\n",
      "      \"system\": {\n",
      "         \"ctapipe_version\": \"0.8.0.post10+git262b6aa\",\n",
      "         \"ctapipe_resources_version\": \"0.3.0\",\n",
      "         \"eventio_version\": \"1.4.1\",\n",
      "         \"ctapipe_svc_path\": null,\n",
      "         \"executable\": \"/home/travis/virtualenv/python3.7.6/bin/python\",\n",
      "         \"platform\": {\n",
      "            \"architecture_bits\": \"64bit\",\n",
      "            \"architecture_linkage\": \"\",\n",
      "            \"machine\": \"x86_64\",\n",
      "            \"processor\": \"x86_64\",\n",
      "            \"node\": \"travis-job-dac37d3b-4b29-49d5-812a-4e9dcbe13e8e\",\n",
      "            \"version\": \"#32-Ubuntu SMP Tue Feb 11 03:55:48 UTC 2020\",\n",
      "            \"system\": \"Linux\",\n",
      "            \"release\": \"5.0.0-1031-gcp\",\n",
      "            \"libcver\": [\n",
      "               \"glibc\",\n",
      "               \"2.2.5\"\n",
      "            ],\n",
      "            \"num_cpus\": 2,\n",
      "            \"boot_time\": \"2020-07-05T11:34:13.000\"\n",
      "         },\n",
      "         \"python\": {\n",
      "            \"version_string\": \"3.7.6 (default, Dec 21 2019, 10:36:56) \\n[GCC 7.4.0]\",\n",
      "            \"version\": [\n",
      "               \"3\",\n",
      "               \"7\",\n",
      "               \"6\"\n",
      "            ],\n",
      "            \"compiler\": \"GCC 7.4.0\",\n",
      "            \"implementation\": \"CPython\"\n",
      "         },\n",
      "         \"environment\": {\n",
      "            \"CONDA_DEFAULT_ENV\": null,\n",
      "            \"CONDA_PREFIX\": null,\n",
      "            \"CONDA_PYTHON_EXE\": null,\n",
      "            \"CONDA_EXE\": null,\n",
      "            \"CONDA_PROMPT_MODIFIER\": null,\n",
      "            \"CONDA_SHLVL\": null,\n",
      "            \"PATH\": \"/home/travis/virtualenv/python3.7.6/bin:/home/travis/bin:/home/travis/.local/bin:/usr/local/lib/jvm/openjdk11/bin:/opt/pyenv/shims:/home/travis/.phpenv/shims:/home/travis/perl5/perlbrew/bin:/home/travis/.nvm/versions/node/v10.16.0/bin:/home/travis/.kiex/elixirs/elixir-1.7.4/bin:/home/travis/.kiex/bin:/home/travis/.rvm/gems/ruby-2.6.5/bin:/home/travis/.rvm/gems/ruby-2.6.5@global/bin:/home/travis/.rvm/rubies/ruby-2.6.5/bin:/home/travis/gopath/bin:/home/travis/.gimme/versions/go1.11.1.linux.amd64/bin:/usr/local/maven-3.6.3/bin:/usr/local/cmake-3.12.4/bin:/usr/local/clang-7.0.0/bin:/usr/local/sbin:/usr/local/bin:/usr/sbin:/usr/bin:/sbin:/bin:/snap/bin:/home/travis/.rvm/bin:/home/travis/.phpenv/bin:/opt/pyenv/bin:/home/travis/.yarn/bin\",\n",
      "            \"LD_LIBRARY_PATH\": null,\n",
      "            \"DYLD_LIBRARY_PATH\": null,\n",
      "            \"USER\": \"travis\",\n",
      "            \"HOME\": \"/home/travis\",\n",
      "            \"SHELL\": \"/bin/bash\"\n",
      "         },\n",
      "         \"arguments\": [\n",
      "            \"/home/travis/virtualenv/python3.7.6/lib/python3.7/site-packages/ipykernel_launcher.py\",\n",
      "            \"-f\",\n",
      "            \"/tmp/tmpne206ij1.json\",\n",
      "            \"--HistoryManager.hist_file=:memory:\"\n",
      "         ],\n",
      "         \"start_time_utc\": \"2020-07-05T11:43:48.638\"\n",
      "      },\n",
      "      \"input\": [],\n",
      "      \"output\": [],\n",
      "      \"config\": {\n",
      "         \"MyTool\": {\n",
      "            \"config_file\": null,\n",
      "            \"iterations\": 3,\n",
      "            \"log_datefmt\": \"%Y-%m-%d %H:%M:%S\",\n",
      "            \"log_format\": \"%(asctime)s : %(levelname)s [%(name)s %(funcName)s] %(message)s\",\n",
      "            \"log_level\": 10\n",
      "         },\n",
      "         \"MyComponent\": {\n",
      "            \"value\": -1\n",
      "         },\n",
      "         \"SecondaryMyComponent\": {\n",
      "            \"value\": -1\n",
      "         },\n",
      "         \"AdvancedComponent\": {\n",
      "            \"infile\": null,\n",
      "            \"outfile\": null,\n",
      "            \"value1\": -1\n",
      "         },\n",
      "         \"TelescopeWiseComponent\": {\n",
      "            \"param\": [\n",
      "               [\n",
      "                  \"type\",\n",
      "                  \"*\",\n",
      "                  5.0\n",
      "               ]\n",
      "            ]\n",
      "         }\n",
      "      },\n",
      "      \"status\": \"completed\",\n",
      "      \"duration_min\": 0.00543333333332896\n",
      "   }\n",
      "]'\n"
     ]
    },
    {
     "name": "stderr",
     "output_type": "stream",
     "text": [
      "2020-07-05 11:43:48 : \u001b[1;34mDEBUG\u001b[0m [MyTool exit] Exiting application: mytool\n"
     ]
    }
   ],
   "source": [
    "tool.iterations = 1\n",
    "tool.log_level = 0\n",
    "\n",
    "try:\n",
    "    tool.run(['--infile', GAMMA_FILE])\n",
    "except SystemExit as e:\n",
    "    assert e.code == 0, f'Tool returned with error status {e}'"
   ]
  },
  {
   "cell_type": "markdown",
   "metadata": {},
   "source": [
    "see what happens when a value is set that is not of the correct type:"
   ]
  },
  {
   "cell_type": "code",
   "execution_count": 16,
   "metadata": {},
   "outputs": [
    {
     "name": "stdout",
     "output_type": "stream",
     "text": [
      "bad value: The 'iterations' trait of a MyTool instance must be an int, but a value of 'badval' <class 'str'> was specified.\n"
     ]
    }
   ],
   "source": [
    "try:\n",
    "    tool.iterations = \"badval\"\n",
    "except TraitError as E:\n",
    "    print(\"bad value:\",E)\n",
    "except SystemExit as e:\n",
    "    assert e.code == 0, f'Tool returned with error status {e}'"
   ]
  },
  {
   "cell_type": "markdown",
   "metadata": {},
   "source": [
    "Example of what happens when you change a parameter that is being \"observed\" in a class. It's handler is called:"
   ]
  },
  {
   "cell_type": "code",
   "execution_count": 17,
   "metadata": {},
   "outputs": [
    {
     "name": "stderr",
     "output_type": "stream",
     "text": [
      "2020-07-05 11:43:48 : \u001b[1;33mWARNING\u001b[0m [MyTool.AdvancedComponent on_outfile_changed] Outfile was changed to '{'name': 'outfile', 'old': None, 'new': PosixPath('/home/travis/build/cta-observatory/ctapipe/docs/examples/Another.txt'), 'owner': <__main__.AdvancedComponent object at 0x7ff6c77fbf10>, 'type': 'change'}'\n"
     ]
    }
   ],
   "source": [
    "tool.advanced.outfile = \"Another.txt\""
   ]
  },
  {
   "cell_type": "markdown",
   "metadata": {},
   "source": [
    "we see that the handler for `outfile` was called, and it receive a change dict that shows the old and new values."
   ]
  },
  {
   "cell_type": "markdown",
   "metadata": {},
   "source": [
    "create a tool using a config file:"
   ]
  },
  {
   "cell_type": "code",
   "execution_count": 18,
   "metadata": {},
   "outputs": [],
   "source": [
    "tool2 = MyTool()"
   ]
  },
  {
   "cell_type": "code",
   "execution_count": 19,
   "metadata": {
    "scrolled": false
   },
   "outputs": [
    {
     "name": "stderr",
     "output_type": "stream",
     "text": [
      "2020-07-05 11:43:49 : \u001b[1;32mINFO\u001b[0m [MyTool initialize] ctapipe version 0.8.0.post10+git262b6aa\n"
     ]
    },
    {
     "name": "stderr",
     "output_type": "stream",
     "text": [
      "2020-07-05 11:43:49 : \u001b[1;32mINFO\u001b[0m [MyTool run] Starting: mytool\n"
     ]
    },
    {
     "name": "stderr",
     "output_type": "stream",
     "text": [
      "2020-07-05 11:43:49 : \u001b[1;34mDEBUG\u001b[0m [MyTool run] CONFIG: {'MyTool': {'config_file': PosixPath('/home/travis/build/cta-observatory/ctapipe/docs/examples/Tools.json'), 'iterations': 5, 'log_datefmt': '%Y-%m-%d %H:%M:%S', 'log_format': '%(levelname)s [%(name)s] (%(module)s/%(funcName)s): %(message)s', 'log_level': 10}, 'MyComponent': {'value': -1}, 'SecondaryMyComponent': {'value': -1}, 'AdvancedComponent': {'infile': PosixPath('/home/travis/build/cta-observatory/ctapipe/docs/examples/something.txt'), 'outfile': None, 'value1': -1}, 'TelescopeWiseComponent': {'param': [('type', '*', 5.0)]}}\n"
     ]
    },
    {
     "name": "stderr",
     "output_type": "stream",
     "text": [
      "2020-07-05 11:43:49 : \u001b[1;32mINFO\u001b[0m [MyTool start] Performing 5 iterations...\n"
     ]
    },
    {
     "name": "stderr",
     "output_type": "stream",
     "text": [
      "2020-07-05 11:43:49 : \u001b[1;32mINFO\u001b[0m [MyTool start] ITERATION 0\n"
     ]
    },
    {
     "name": "stderr",
     "output_type": "stream",
     "text": [
      "2020-07-05 11:43:49 : \u001b[1;34mDEBUG\u001b[0m [MyTool.MyComponent do_thing] Did thing\n"
     ]
    },
    {
     "name": "stderr",
     "output_type": "stream",
     "text": [
      "2020-07-05 11:43:49 : \u001b[1;34mDEBUG\u001b[0m [MyTool.SecondaryMyComponent do_thing] Did thing\n"
     ]
    },
    {
     "name": "stderr",
     "output_type": "stream",
     "text": [
      "2020-07-05 11:43:49 : \u001b[1;32mINFO\u001b[0m [MyTool start] ITERATION 1\n"
     ]
    },
    {
     "name": "stderr",
     "output_type": "stream",
     "text": [
      "2020-07-05 11:43:49 : \u001b[1;34mDEBUG\u001b[0m [MyTool.MyComponent do_thing] Did thing\n"
     ]
    },
    {
     "name": "stderr",
     "output_type": "stream",
     "text": [
      "2020-07-05 11:43:49 : \u001b[1;34mDEBUG\u001b[0m [MyTool.SecondaryMyComponent do_thing] Did thing\n"
     ]
    },
    {
     "name": "stderr",
     "output_type": "stream",
     "text": [
      "2020-07-05 11:43:49 : \u001b[1;32mINFO\u001b[0m [MyTool start] ITERATION 2\n"
     ]
    },
    {
     "name": "stderr",
     "output_type": "stream",
     "text": [
      "2020-07-05 11:43:49 : \u001b[1;34mDEBUG\u001b[0m [MyTool.MyComponent do_thing] Did thing\n"
     ]
    },
    {
     "name": "stderr",
     "output_type": "stream",
     "text": [
      "2020-07-05 11:43:49 : \u001b[1;34mDEBUG\u001b[0m [MyTool.SecondaryMyComponent do_thing] Did thing\n"
     ]
    },
    {
     "name": "stderr",
     "output_type": "stream",
     "text": [
      "2020-07-05 11:43:49 : \u001b[1;32mINFO\u001b[0m [MyTool start] ITERATION 3\n"
     ]
    },
    {
     "name": "stderr",
     "output_type": "stream",
     "text": [
      "2020-07-05 11:43:49 : \u001b[1;34mDEBUG\u001b[0m [MyTool.MyComponent do_thing] Did thing\n"
     ]
    },
    {
     "name": "stderr",
     "output_type": "stream",
     "text": [
      "2020-07-05 11:43:49 : \u001b[1;34mDEBUG\u001b[0m [MyTool.SecondaryMyComponent do_thing] Did thing\n"
     ]
    },
    {
     "name": "stderr",
     "output_type": "stream",
     "text": [
      "2020-07-05 11:43:49 : \u001b[1;32mINFO\u001b[0m [MyTool start] ITERATION 4\n"
     ]
    },
    {
     "name": "stderr",
     "output_type": "stream",
     "text": [
      "2020-07-05 11:43:49 : \u001b[1;34mDEBUG\u001b[0m [MyTool.MyComponent do_thing] Did thing\n"
     ]
    },
    {
     "name": "stderr",
     "output_type": "stream",
     "text": [
      "2020-07-05 11:43:49 : \u001b[1;34mDEBUG\u001b[0m [MyTool.SecondaryMyComponent do_thing] Did thing\n"
     ]
    },
    {
     "name": "stderr",
     "output_type": "stream",
     "text": [
      "2020-07-05 11:43:49 : \u001b[1;33mWARNING\u001b[0m [MyTool finish] Shutting down.\n"
     ]
    },
    {
     "name": "stderr",
     "output_type": "stream",
     "text": [
      "2020-07-05 11:43:49 : \u001b[1;32mINFO\u001b[0m [MyTool run] Finished: mytool\n"
     ]
    },
    {
     "name": "stderr",
     "output_type": "stream",
     "text": [
      "2020-07-05 11:43:49 : \u001b[1;32mINFO\u001b[0m [MyTool run] Output: \n"
     ]
    },
    {
     "name": "stderr",
     "output_type": "stream",
     "text": [
      "2020-07-05 11:43:49 : \u001b[1;32mINFO\u001b[0m [MyTool run] Output: \n"
     ]
    },
    {
     "name": "stderr",
     "output_type": "stream",
     "text": [
      "2020-07-05 11:43:49 : \u001b[1;32mINFO\u001b[0m [MyTool run] Output: \n"
     ]
    },
    {
     "name": "stderr",
     "output_type": "stream",
     "text": [
      "2020-07-05 11:43:49 : \u001b[1;32mINFO\u001b[0m [MyTool run] Output: \n"
     ]
    },
    {
     "name": "stderr",
     "output_type": "stream",
     "text": [
      "2020-07-05 11:43:49 : \u001b[1;32mINFO\u001b[0m [MyTool run] Output: \n"
     ]
    },
    {
     "name": "stderr",
     "output_type": "stream",
     "text": [
      "2020-07-05 11:43:49 : \u001b[1;34mDEBUG\u001b[0m [MyTool run] PROVENANCE: '[\n",
      "   {\n",
      "      \"activity_name\": \"mytool\",\n",
      "      \"activity_uuid\": \"19a8f593-086d-4dfe-ba8b-1011534e7726\",\n",
      "      \"start\": {\n",
      "         \"time_utc\": \"2020-07-05T11:43:47.377\"\n",
      "      },\n",
      "      \"stop\": {\n",
      "         \"time_utc\": \"2020-07-05T11:43:47.901\"\n",
      "      },\n",
      "      \"system\": {\n",
      "         \"ctapipe_version\": \"0.8.0.post10+git262b6aa\",\n",
      "         \"ctapipe_resources_version\": \"0.3.0\",\n",
      "         \"eventio_version\": \"1.4.1\",\n",
      "         \"ctapipe_svc_path\": null,\n",
      "         \"executable\": \"/home/travis/virtualenv/python3.7.6/bin/python\",\n",
      "         \"platform\": {\n",
      "            \"architecture_bits\": \"64bit\",\n",
      "            \"architecture_linkage\": \"\",\n",
      "            \"machine\": \"x86_64\",\n",
      "            \"processor\": \"x86_64\",\n",
      "            \"node\": \"travis-job-dac37d3b-4b29-49d5-812a-4e9dcbe13e8e\",\n",
      "            \"version\": \"#32-Ubuntu SMP Tue Feb 11 03:55:48 UTC 2020\",\n",
      "            \"system\": \"Linux\",\n",
      "            \"release\": \"5.0.0-1031-gcp\",\n",
      "            \"libcver\": [\n",
      "               \"glibc\",\n",
      "               \"2.2.5\"\n",
      "            ],\n",
      "            \"num_cpus\": 2,\n",
      "            \"boot_time\": \"2020-07-05T11:34:13.000\"\n",
      "         },\n",
      "         \"python\": {\n",
      "            \"version_string\": \"3.7.6 (default, Dec 21 2019, 10:36:56) \\n[GCC 7.4.0]\",\n",
      "            \"version\": [\n",
      "               \"3\",\n",
      "               \"7\",\n",
      "               \"6\"\n",
      "            ],\n",
      "            \"compiler\": \"GCC 7.4.0\",\n",
      "            \"implementation\": \"CPython\"\n",
      "         },\n",
      "         \"environment\": {\n",
      "            \"CONDA_DEFAULT_ENV\": null,\n",
      "            \"CONDA_PREFIX\": null,\n",
      "            \"CONDA_PYTHON_EXE\": null,\n",
      "            \"CONDA_EXE\": null,\n",
      "            \"CONDA_PROMPT_MODIFIER\": null,\n",
      "            \"CONDA_SHLVL\": null,\n",
      "            \"PATH\": \"/home/travis/virtualenv/python3.7.6/bin:/home/travis/bin:/home/travis/.local/bin:/usr/local/lib/jvm/openjdk11/bin:/opt/pyenv/shims:/home/travis/.phpenv/shims:/home/travis/perl5/perlbrew/bin:/home/travis/.nvm/versions/node/v10.16.0/bin:/home/travis/.kiex/elixirs/elixir-1.7.4/bin:/home/travis/.kiex/bin:/home/travis/.rvm/gems/ruby-2.6.5/bin:/home/travis/.rvm/gems/ruby-2.6.5@global/bin:/home/travis/.rvm/rubies/ruby-2.6.5/bin:/home/travis/gopath/bin:/home/travis/.gimme/versions/go1.11.1.linux.amd64/bin:/usr/local/maven-3.6.3/bin:/usr/local/cmake-3.12.4/bin:/usr/local/clang-7.0.0/bin:/usr/local/sbin:/usr/local/bin:/usr/sbin:/usr/bin:/sbin:/bin:/snap/bin:/home/travis/.rvm/bin:/home/travis/.phpenv/bin:/opt/pyenv/bin:/home/travis/.yarn/bin\",\n",
      "            \"LD_LIBRARY_PATH\": null,\n",
      "            \"DYLD_LIBRARY_PATH\": null,\n",
      "            \"USER\": \"travis\",\n",
      "            \"HOME\": \"/home/travis\",\n",
      "            \"SHELL\": \"/bin/bash\"\n",
      "         },\n",
      "         \"arguments\": [\n",
      "            \"/home/travis/virtualenv/python3.7.6/lib/python3.7/site-packages/ipykernel_launcher.py\",\n",
      "            \"-f\",\n",
      "            \"/tmp/tmpne206ij1.json\",\n",
      "            \"--HistoryManager.hist_file=:memory:\"\n",
      "         ],\n",
      "         \"start_time_utc\": \"2020-07-05T11:43:47.388\"\n",
      "      },\n",
      "      \"input\": [],\n",
      "      \"output\": [],\n",
      "      \"config\": {\n",
      "         \"MyTool\": {\n",
      "            \"config_file\": null,\n",
      "            \"iterations\": 5,\n",
      "            \"log_datefmt\": \"%Y-%m-%d %H:%M:%S\",\n",
      "            \"log_format\": \"%(levelname)s [%(name)s] (%(module)s/%(funcName)s): %(message)s\",\n",
      "            \"log_level\": 20\n",
      "         },\n",
      "         \"MyComponent\": {\n",
      "            \"value\": -1\n",
      "         },\n",
      "         \"SecondaryMyComponent\": {\n",
      "            \"value\": -1\n",
      "         },\n",
      "         \"AdvancedComponent\": {\n",
      "            \"infile\": null,\n",
      "            \"outfile\": null,\n",
      "            \"value1\": -1\n",
      "         },\n",
      "         \"TelescopeWiseComponent\": {\n",
      "            \"param\": [\n",
      "               [\n",
      "                  \"type\",\n",
      "                  \"*\",\n",
      "                  5.0\n",
      "               ]\n",
      "            ]\n",
      "         }\n",
      "      },\n",
      "      \"status\": \"completed\",\n",
      "      \"duration_min\": 0.008733333333310611\n",
      "   },\n",
      "   {\n",
      "      \"activity_name\": \"mytool\",\n",
      "      \"activity_uuid\": \"ff2027c2-cca6-409e-9356-b083a83b04d6\",\n",
      "      \"start\": {\n",
      "         \"time_utc\": \"2020-07-05T11:43:47.923\"\n",
      "      },\n",
      "      \"stop\": {\n",
      "         \"time_utc\": \"2020-07-05T11:43:48.244\"\n",
      "      },\n",
      "      \"system\": {\n",
      "         \"ctapipe_version\": \"0.8.0.post10+git262b6aa\",\n",
      "         \"ctapipe_resources_version\": \"0.3.0\",\n",
      "         \"eventio_version\": \"1.4.1\",\n",
      "         \"ctapipe_svc_path\": null,\n",
      "         \"executable\": \"/home/travis/virtualenv/python3.7.6/bin/python\",\n",
      "         \"platform\": {\n",
      "            \"architecture_bits\": \"64bit\",\n",
      "            \"architecture_linkage\": \"\",\n",
      "            \"machine\": \"x86_64\",\n",
      "            \"processor\": \"x86_64\",\n",
      "            \"node\": \"travis-job-dac37d3b-4b29-49d5-812a-4e9dcbe13e8e\",\n",
      "            \"version\": \"#32-Ubuntu SMP Tue Feb 11 03:55:48 UTC 2020\",\n",
      "            \"system\": \"Linux\",\n",
      "            \"release\": \"5.0.0-1031-gcp\",\n",
      "            \"libcver\": [\n",
      "               \"glibc\",\n",
      "               \"2.2.5\"\n",
      "            ],\n",
      "            \"num_cpus\": 2,\n",
      "            \"boot_time\": \"2020-07-05T11:34:13.000\"\n",
      "         },\n",
      "         \"python\": {\n",
      "            \"version_string\": \"3.7.6 (default, Dec 21 2019, 10:36:56) \\n[GCC 7.4.0]\",\n",
      "            \"version\": [\n",
      "               \"3\",\n",
      "               \"7\",\n",
      "               \"6\"\n",
      "            ],\n",
      "            \"compiler\": \"GCC 7.4.0\",\n",
      "            \"implementation\": \"CPython\"\n",
      "         },\n",
      "         \"environment\": {\n",
      "            \"CONDA_DEFAULT_ENV\": null,\n",
      "            \"CONDA_PREFIX\": null,\n",
      "            \"CONDA_PYTHON_EXE\": null,\n",
      "            \"CONDA_EXE\": null,\n",
      "            \"CONDA_PROMPT_MODIFIER\": null,\n",
      "            \"CONDA_SHLVL\": null,\n",
      "            \"PATH\": \"/home/travis/virtualenv/python3.7.6/bin:/home/travis/bin:/home/travis/.local/bin:/usr/local/lib/jvm/openjdk11/bin:/opt/pyenv/shims:/home/travis/.phpenv/shims:/home/travis/perl5/perlbrew/bin:/home/travis/.nvm/versions/node/v10.16.0/bin:/home/travis/.kiex/elixirs/elixir-1.7.4/bin:/home/travis/.kiex/bin:/home/travis/.rvm/gems/ruby-2.6.5/bin:/home/travis/.rvm/gems/ruby-2.6.5@global/bin:/home/travis/.rvm/rubies/ruby-2.6.5/bin:/home/travis/gopath/bin:/home/travis/.gimme/versions/go1.11.1.linux.amd64/bin:/usr/local/maven-3.6.3/bin:/usr/local/cmake-3.12.4/bin:/usr/local/clang-7.0.0/bin:/usr/local/sbin:/usr/local/bin:/usr/sbin:/usr/bin:/sbin:/bin:/snap/bin:/home/travis/.rvm/bin:/home/travis/.phpenv/bin:/opt/pyenv/bin:/home/travis/.yarn/bin\",\n",
      "            \"LD_LIBRARY_PATH\": null,\n",
      "            \"DYLD_LIBRARY_PATH\": null,\n",
      "            \"USER\": \"travis\",\n",
      "            \"HOME\": \"/home/travis\",\n",
      "            \"SHELL\": \"/bin/bash\"\n",
      "         },\n",
      "         \"arguments\": [\n",
      "            \"/home/travis/virtualenv/python3.7.6/lib/python3.7/site-packages/ipykernel_launcher.py\",\n",
      "            \"-f\",\n",
      "            \"/tmp/tmpne206ij1.json\",\n",
      "            \"--HistoryManager.hist_file=:memory:\"\n",
      "         ],\n",
      "         \"start_time_utc\": \"2020-07-05T11:43:47.933\"\n",
      "      },\n",
      "      \"input\": [],\n",
      "      \"output\": [],\n",
      "      \"config\": {\n",
      "         \"MyTool\": {\n",
      "            \"config_file\": null,\n",
      "            \"iterations\": 3,\n",
      "            \"log_datefmt\": \"%Y-%m-%d %H:%M:%S\",\n",
      "            \"log_format\": \"%(asctime)s : %(levelname)s [%(name)s %(funcName)s] %(message)s\",\n",
      "            \"log_level\": 20\n",
      "         },\n",
      "         \"MyComponent\": {\n",
      "            \"value\": -1\n",
      "         },\n",
      "         \"SecondaryMyComponent\": {\n",
      "            \"value\": -1\n",
      "         },\n",
      "         \"AdvancedComponent\": {\n",
      "            \"infile\": null,\n",
      "            \"outfile\": null,\n",
      "            \"value1\": -1\n",
      "         },\n",
      "         \"TelescopeWiseComponent\": {\n",
      "            \"param\": [\n",
      "               [\n",
      "                  \"type\",\n",
      "                  \"*\",\n",
      "                  5.0\n",
      "               ]\n",
      "            ]\n",
      "         }\n",
      "      },\n",
      "      \"status\": \"completed\",\n",
      "      \"duration_min\": 0.005349999999975097\n",
      "   },\n",
      "   {\n",
      "      \"activity_name\": \"mytool\",\n",
      "      \"activity_uuid\": \"40cb5bea-2f3c-475d-b068-18aaf20d051e\",\n",
      "      \"start\": {\n",
      "         \"time_utc\": \"2020-07-05T11:43:48.268\"\n",
      "      },\n",
      "      \"stop\": {\n",
      "         \"time_utc\": \"2020-07-05T11:43:48.595\"\n",
      "      },\n",
      "      \"system\": {\n",
      "         \"ctapipe_version\": \"0.8.0.post10+git262b6aa\",\n",
      "         \"ctapipe_resources_version\": \"0.3.0\",\n",
      "         \"eventio_version\": \"1.4.1\",\n",
      "         \"ctapipe_svc_path\": null,\n",
      "         \"executable\": \"/home/travis/virtualenv/python3.7.6/bin/python\",\n",
      "         \"platform\": {\n",
      "            \"architecture_bits\": \"64bit\",\n",
      "            \"architecture_linkage\": \"\",\n",
      "            \"machine\": \"x86_64\",\n",
      "            \"processor\": \"x86_64\",\n",
      "            \"node\": \"travis-job-dac37d3b-4b29-49d5-812a-4e9dcbe13e8e\",\n",
      "            \"version\": \"#32-Ubuntu SMP Tue Feb 11 03:55:48 UTC 2020\",\n",
      "            \"system\": \"Linux\",\n",
      "            \"release\": \"5.0.0-1031-gcp\",\n",
      "            \"libcver\": [\n",
      "               \"glibc\",\n",
      "               \"2.2.5\"\n",
      "            ],\n",
      "            \"num_cpus\": 2,\n",
      "            \"boot_time\": \"2020-07-05T11:34:13.000\"\n",
      "         },\n",
      "         \"python\": {\n",
      "            \"version_string\": \"3.7.6 (default, Dec 21 2019, 10:36:56) \\n[GCC 7.4.0]\",\n",
      "            \"version\": [\n",
      "               \"3\",\n",
      "               \"7\",\n",
      "               \"6\"\n",
      "            ],\n",
      "            \"compiler\": \"GCC 7.4.0\",\n",
      "            \"implementation\": \"CPython\"\n",
      "         },\n",
      "         \"environment\": {\n",
      "            \"CONDA_DEFAULT_ENV\": null,\n",
      "            \"CONDA_PREFIX\": null,\n",
      "            \"CONDA_PYTHON_EXE\": null,\n",
      "            \"CONDA_EXE\": null,\n",
      "            \"CONDA_PROMPT_MODIFIER\": null,\n",
      "            \"CONDA_SHLVL\": null,\n",
      "            \"PATH\": \"/home/travis/virtualenv/python3.7.6/bin:/home/travis/bin:/home/travis/.local/bin:/usr/local/lib/jvm/openjdk11/bin:/opt/pyenv/shims:/home/travis/.phpenv/shims:/home/travis/perl5/perlbrew/bin:/home/travis/.nvm/versions/node/v10.16.0/bin:/home/travis/.kiex/elixirs/elixir-1.7.4/bin:/home/travis/.kiex/bin:/home/travis/.rvm/gems/ruby-2.6.5/bin:/home/travis/.rvm/gems/ruby-2.6.5@global/bin:/home/travis/.rvm/rubies/ruby-2.6.5/bin:/home/travis/gopath/bin:/home/travis/.gimme/versions/go1.11.1.linux.amd64/bin:/usr/local/maven-3.6.3/bin:/usr/local/cmake-3.12.4/bin:/usr/local/clang-7.0.0/bin:/usr/local/sbin:/usr/local/bin:/usr/sbin:/usr/bin:/sbin:/bin:/snap/bin:/home/travis/.rvm/bin:/home/travis/.phpenv/bin:/opt/pyenv/bin:/home/travis/.yarn/bin\",\n",
      "            \"LD_LIBRARY_PATH\": null,\n",
      "            \"DYLD_LIBRARY_PATH\": null,\n",
      "            \"USER\": \"travis\",\n",
      "            \"HOME\": \"/home/travis\",\n",
      "            \"SHELL\": \"/bin/bash\"\n",
      "         },\n",
      "         \"arguments\": [\n",
      "            \"/home/travis/virtualenv/python3.7.6/lib/python3.7/site-packages/ipykernel_launcher.py\",\n",
      "            \"-f\",\n",
      "            \"/tmp/tmpne206ij1.json\",\n",
      "            \"--HistoryManager.hist_file=:memory:\"\n",
      "         ],\n",
      "         \"start_time_utc\": \"2020-07-05T11:43:48.277\"\n",
      "      },\n",
      "      \"input\": [],\n",
      "      \"output\": [],\n",
      "      \"config\": {\n",
      "         \"MyTool\": {\n",
      "            \"config_file\": null,\n",
      "            \"iterations\": 3,\n",
      "            \"log_datefmt\": \"%Y-%m-%d %H:%M:%S\",\n",
      "            \"log_format\": \"%(asctime)s : %(levelname)s [%(name)s %(funcName)s] %(message)s\",\n",
      "            \"log_level\": 10\n",
      "         },\n",
      "         \"MyComponent\": {\n",
      "            \"value\": -1\n",
      "         },\n",
      "         \"SecondaryMyComponent\": {\n",
      "            \"value\": -1\n",
      "         },\n",
      "         \"AdvancedComponent\": {\n",
      "            \"infile\": null,\n",
      "            \"outfile\": null,\n",
      "            \"value1\": -1\n",
      "         },\n",
      "         \"TelescopeWiseComponent\": {\n",
      "            \"param\": [\n",
      "               [\n",
      "                  \"type\",\n",
      "                  \"*\",\n",
      "                  5.0\n",
      "               ]\n",
      "            ]\n",
      "         }\n",
      "      },\n",
      "      \"status\": \"completed\",\n",
      "      \"duration_min\": 0.005450000000095656\n",
      "   },\n",
      "   {\n",
      "      \"activity_name\": \"mytool\",\n",
      "      \"activity_uuid\": \"9524262d-2211-4a3f-bd1d-407818217be2\",\n",
      "      \"start\": {\n",
      "         \"time_utc\": \"2020-07-05T11:43:48.628\"\n",
      "      },\n",
      "      \"stop\": {\n",
      "         \"time_utc\": \"2020-07-05T11:43:48.954\"\n",
      "      },\n",
      "      \"system\": {\n",
      "         \"ctapipe_version\": \"0.8.0.post10+git262b6aa\",\n",
      "         \"ctapipe_resources_version\": \"0.3.0\",\n",
      "         \"eventio_version\": \"1.4.1\",\n",
      "         \"ctapipe_svc_path\": null,\n",
      "         \"executable\": \"/home/travis/virtualenv/python3.7.6/bin/python\",\n",
      "         \"platform\": {\n",
      "            \"architecture_bits\": \"64bit\",\n",
      "            \"architecture_linkage\": \"\",\n",
      "            \"machine\": \"x86_64\",\n",
      "            \"processor\": \"x86_64\",\n",
      "            \"node\": \"travis-job-dac37d3b-4b29-49d5-812a-4e9dcbe13e8e\",\n",
      "            \"version\": \"#32-Ubuntu SMP Tue Feb 11 03:55:48 UTC 2020\",\n",
      "            \"system\": \"Linux\",\n",
      "            \"release\": \"5.0.0-1031-gcp\",\n",
      "            \"libcver\": [\n",
      "               \"glibc\",\n",
      "               \"2.2.5\"\n",
      "            ],\n",
      "            \"num_cpus\": 2,\n",
      "            \"boot_time\": \"2020-07-05T11:34:13.000\"\n",
      "         },\n",
      "         \"python\": {\n",
      "            \"version_string\": \"3.7.6 (default, Dec 21 2019, 10:36:56) \\n[GCC 7.4.0]\",\n",
      "            \"version\": [\n",
      "               \"3\",\n",
      "               \"7\",\n",
      "               \"6\"\n",
      "            ],\n",
      "            \"compiler\": \"GCC 7.4.0\",\n",
      "            \"implementation\": \"CPython\"\n",
      "         },\n",
      "         \"environment\": {\n",
      "            \"CONDA_DEFAULT_ENV\": null,\n",
      "            \"CONDA_PREFIX\": null,\n",
      "            \"CONDA_PYTHON_EXE\": null,\n",
      "            \"CONDA_EXE\": null,\n",
      "            \"CONDA_PROMPT_MODIFIER\": null,\n",
      "            \"CONDA_SHLVL\": null,\n",
      "            \"PATH\": \"/home/travis/virtualenv/python3.7.6/bin:/home/travis/bin:/home/travis/.local/bin:/usr/local/lib/jvm/openjdk11/bin:/opt/pyenv/shims:/home/travis/.phpenv/shims:/home/travis/perl5/perlbrew/bin:/home/travis/.nvm/versions/node/v10.16.0/bin:/home/travis/.kiex/elixirs/elixir-1.7.4/bin:/home/travis/.kiex/bin:/home/travis/.rvm/gems/ruby-2.6.5/bin:/home/travis/.rvm/gems/ruby-2.6.5@global/bin:/home/travis/.rvm/rubies/ruby-2.6.5/bin:/home/travis/gopath/bin:/home/travis/.gimme/versions/go1.11.1.linux.amd64/bin:/usr/local/maven-3.6.3/bin:/usr/local/cmake-3.12.4/bin:/usr/local/clang-7.0.0/bin:/usr/local/sbin:/usr/local/bin:/usr/sbin:/usr/bin:/sbin:/bin:/snap/bin:/home/travis/.rvm/bin:/home/travis/.phpenv/bin:/opt/pyenv/bin:/home/travis/.yarn/bin\",\n",
      "            \"LD_LIBRARY_PATH\": null,\n",
      "            \"DYLD_LIBRARY_PATH\": null,\n",
      "            \"USER\": \"travis\",\n",
      "            \"HOME\": \"/home/travis\",\n",
      "            \"SHELL\": \"/bin/bash\"\n",
      "         },\n",
      "         \"arguments\": [\n",
      "            \"/home/travis/virtualenv/python3.7.6/lib/python3.7/site-packages/ipykernel_launcher.py\",\n",
      "            \"-f\",\n",
      "            \"/tmp/tmpne206ij1.json\",\n",
      "            \"--HistoryManager.hist_file=:memory:\"\n",
      "         ],\n",
      "         \"start_time_utc\": \"2020-07-05T11:43:48.638\"\n",
      "      },\n",
      "      \"input\": [],\n",
      "      \"output\": [],\n",
      "      \"config\": {\n",
      "         \"MyTool\": {\n",
      "            \"config_file\": null,\n",
      "            \"iterations\": 3,\n",
      "            \"log_datefmt\": \"%Y-%m-%d %H:%M:%S\",\n",
      "            \"log_format\": \"%(asctime)s : %(levelname)s [%(name)s %(funcName)s] %(message)s\",\n",
      "            \"log_level\": 10\n",
      "         },\n",
      "         \"MyComponent\": {\n",
      "            \"value\": -1\n",
      "         },\n",
      "         \"SecondaryMyComponent\": {\n",
      "            \"value\": -1\n",
      "         },\n",
      "         \"AdvancedComponent\": {\n",
      "            \"infile\": null,\n",
      "            \"outfile\": null,\n",
      "            \"value1\": -1\n",
      "         },\n",
      "         \"TelescopeWiseComponent\": {\n",
      "            \"param\": [\n",
      "               [\n",
      "                  \"type\",\n",
      "                  \"*\",\n",
      "                  5.0\n",
      "               ]\n",
      "            ]\n",
      "         }\n",
      "      },\n",
      "      \"status\": \"completed\",\n",
      "      \"duration_min\": 0.00543333333332896\n",
      "   },\n",
      "   {\n",
      "      \"activity_name\": \"mytool\",\n",
      "      \"activity_uuid\": \"3eee8d86-3f9a-4017-9018-4fb077c5a664\",\n",
      "      \"start\": {\n",
      "         \"time_utc\": \"2020-07-05T11:43:49.009\"\n",
      "      },\n",
      "      \"stop\": {\n",
      "         \"time_utc\": \"2020-07-05T11:43:49.538\"\n",
      "      },\n",
      "      \"system\": {\n",
      "         \"ctapipe_version\": \"0.8.0.post10+git262b6aa\",\n",
      "         \"ctapipe_resources_version\": \"0.3.0\",\n",
      "         \"eventio_version\": \"1.4.1\",\n",
      "         \"ctapipe_svc_path\": null,\n",
      "         \"executable\": \"/home/travis/virtualenv/python3.7.6/bin/python\",\n",
      "         \"platform\": {\n",
      "            \"architecture_bits\": \"64bit\",\n",
      "            \"architecture_linkage\": \"\",\n",
      "            \"machine\": \"x86_64\",\n",
      "            \"processor\": \"x86_64\",\n",
      "            \"node\": \"travis-job-dac37d3b-4b29-49d5-812a-4e9dcbe13e8e\",\n",
      "            \"version\": \"#32-Ubuntu SMP Tue Feb 11 03:55:48 UTC 2020\",\n",
      "            \"system\": \"Linux\",\n",
      "            \"release\": \"5.0.0-1031-gcp\",\n",
      "            \"libcver\": [\n",
      "               \"glibc\",\n",
      "               \"2.2.5\"\n",
      "            ],\n",
      "            \"num_cpus\": 2,\n",
      "            \"boot_time\": \"2020-07-05T11:34:13.000\"\n",
      "         },\n",
      "         \"python\": {\n",
      "            \"version_string\": \"3.7.6 (default, Dec 21 2019, 10:36:56) \\n[GCC 7.4.0]\",\n",
      "            \"version\": [\n",
      "               \"3\",\n",
      "               \"7\",\n",
      "               \"6\"\n",
      "            ],\n",
      "            \"compiler\": \"GCC 7.4.0\",\n",
      "            \"implementation\": \"CPython\"\n",
      "         },\n",
      "         \"environment\": {\n",
      "            \"CONDA_DEFAULT_ENV\": null,\n",
      "            \"CONDA_PREFIX\": null,\n",
      "            \"CONDA_PYTHON_EXE\": null,\n",
      "            \"CONDA_EXE\": null,\n",
      "            \"CONDA_PROMPT_MODIFIER\": null,\n",
      "            \"CONDA_SHLVL\": null,\n",
      "            \"PATH\": \"/home/travis/virtualenv/python3.7.6/bin:/home/travis/bin:/home/travis/.local/bin:/usr/local/lib/jvm/openjdk11/bin:/opt/pyenv/shims:/home/travis/.phpenv/shims:/home/travis/perl5/perlbrew/bin:/home/travis/.nvm/versions/node/v10.16.0/bin:/home/travis/.kiex/elixirs/elixir-1.7.4/bin:/home/travis/.kiex/bin:/home/travis/.rvm/gems/ruby-2.6.5/bin:/home/travis/.rvm/gems/ruby-2.6.5@global/bin:/home/travis/.rvm/rubies/ruby-2.6.5/bin:/home/travis/gopath/bin:/home/travis/.gimme/versions/go1.11.1.linux.amd64/bin:/usr/local/maven-3.6.3/bin:/usr/local/cmake-3.12.4/bin:/usr/local/clang-7.0.0/bin:/usr/local/sbin:/usr/local/bin:/usr/sbin:/usr/bin:/sbin:/bin:/snap/bin:/home/travis/.rvm/bin:/home/travis/.phpenv/bin:/opt/pyenv/bin:/home/travis/.yarn/bin\",\n",
      "            \"LD_LIBRARY_PATH\": null,\n",
      "            \"DYLD_LIBRARY_PATH\": null,\n",
      "            \"USER\": \"travis\",\n",
      "            \"HOME\": \"/home/travis\",\n",
      "            \"SHELL\": \"/bin/bash\"\n",
      "         },\n",
      "         \"arguments\": [\n",
      "            \"/home/travis/virtualenv/python3.7.6/lib/python3.7/site-packages/ipykernel_launcher.py\",\n",
      "            \"-f\",\n",
      "            \"/tmp/tmpne206ij1.json\",\n",
      "            \"--HistoryManager.hist_file=:memory:\"\n",
      "         ],\n",
      "         \"start_time_utc\": \"2020-07-05T11:43:49.019\"\n",
      "      },\n",
      "      \"input\": [],\n",
      "      \"output\": [],\n",
      "      \"config\": {\n",
      "         \"MyTool\": {\n",
      "            \"config_file\": null,\n",
      "            \"iterations\": 5,\n",
      "            \"log_datefmt\": \"%Y-%m-%d %H:%M:%S\",\n",
      "            \"log_format\": \"%(levelname)s [%(name)s] (%(module)s/%(funcName)s): %(message)s\",\n",
      "            \"log_level\": 10\n",
      "         },\n",
      "         \"MyComponent\": {\n",
      "            \"value\": -1\n",
      "         },\n",
      "         \"SecondaryMyComponent\": {\n",
      "            \"value\": -1\n",
      "         },\n",
      "         \"AdvancedComponent\": {\n",
      "            \"infile\": null,\n",
      "            \"outfile\": null,\n",
      "            \"value1\": -1\n",
      "         },\n",
      "         \"TelescopeWiseComponent\": {\n",
      "            \"param\": [\n",
      "               [\n",
      "                  \"type\",\n",
      "                  \"*\",\n",
      "                  5.0\n",
      "               ]\n",
      "            ]\n",
      "         }\n",
      "      },\n",
      "      \"status\": \"completed\",\n",
      "      \"duration_min\": 0.008816666666824347\n",
      "   }\n",
      "]'\n"
     ]
    },
    {
     "name": "stderr",
     "output_type": "stream",
     "text": [
      "2020-07-05 11:43:49 : \u001b[1;34mDEBUG\u001b[0m [MyTool exit] Exiting application: mytool\n"
     ]
    }
   ],
   "source": [
    "try:\n",
    "    tool2.run(argv=['--config', 'Tools.json'])\n",
    "except SystemExit as e:\n",
    "    assert e.code == 0, f'Tool returned with error status {e}'"
   ]
  },
  {
   "cell_type": "code",
   "execution_count": 20,
   "metadata": {},
   "outputs": [
    {
     "name": "stdout",
     "output_type": "stream",
     "text": [
      "/home/travis/build/cta-observatory/ctapipe/docs/examples/something.txt\n"
     ]
    }
   ],
   "source": [
    "print(tool2.advanced.infile)"
   ]
  },
  {
   "cell_type": "code",
   "execution_count": 21,
   "metadata": {},
   "outputs": [
    {
     "name": "stdout",
     "output_type": "stream",
     "text": [
      "{'MyTool': {'config_file': 'Tools.json', 'log_level': 'DEBUG'}, 'AdvancedComponent': {'infile': 'something.txt'}, 'attach_subarray': <traitlets.config.loader.LazyConfigValue object at 0x7ff6c7808d50>}\n"
     ]
    }
   ],
   "source": [
    "print(tool2.config)"
   ]
  },
  {
   "cell_type": "code",
   "execution_count": 22,
   "metadata": {},
   "outputs": [
    {
     "data": {
      "text/plain": [
       "True"
      ]
     },
     "execution_count": 22,
     "metadata": {},
     "output_type": "execute_result"
    }
   ],
   "source": [
    "tool2.is_setup"
   ]
  },
  {
   "cell_type": "code",
   "execution_count": 23,
   "metadata": {},
   "outputs": [],
   "source": [
    "tool3 = MyTool()"
   ]
  },
  {
   "cell_type": "code",
   "execution_count": 24,
   "metadata": {},
   "outputs": [
    {
     "data": {
      "text/plain": [
       "False"
      ]
     },
     "execution_count": 24,
     "metadata": {},
     "output_type": "execute_result"
    }
   ],
   "source": [
    "tool3.is_setup"
   ]
  },
  {
   "cell_type": "code",
   "execution_count": 25,
   "metadata": {},
   "outputs": [
    {
     "name": "stderr",
     "output_type": "stream",
     "text": [
      "2020-07-05 11:43:49 : \u001b[1;32mINFO\u001b[0m [MyTool initialize] ctapipe version 0.8.0.post10+git262b6aa\n"
     ]
    }
   ],
   "source": [
    "tool3.initialize(argv=[])"
   ]
  },
  {
   "cell_type": "code",
   "execution_count": 26,
   "metadata": {},
   "outputs": [
    {
     "data": {
      "text/plain": [
       "False"
      ]
     },
     "execution_count": 26,
     "metadata": {},
     "output_type": "execute_result"
    }
   ],
   "source": [
    "tool3.is_setup"
   ]
  },
  {
   "cell_type": "code",
   "execution_count": 27,
   "metadata": {},
   "outputs": [
    {
     "data": {
      "text/html": [
       "<b>MyTool</b>\n",
       "<p> do some things and stuff </p>\n",
       "<table>\n",
       "<tr><th>config_file</th>\n",
       "<td>None</td>\n",
       "<td style=\"text-align:left\"><i>name of a configuration file with parameters to load in addition to command-line parameters (default: None)</i></td></tr>\n",
       "<tr><th>iterations</th>\n",
       "<td>5</td>\n",
       "<td style=\"text-align:left\"><i>Number of times to run (default: 5)</i></td></tr>\n",
       "<tr><th>log_datefmt</th>\n",
       "<td>%Y-%m-%d %H:%M:%S</td>\n",
       "<td style=\"text-align:left\"><i>The date format used by logging formatters for %(asctime)s (default: %Y-%m-%d %H:%M:%S)</i></td></tr>\n",
       "<tr><th>log_format</th>\n",
       "<td>%(levelname)s [%(name)s] (%(module)s/%(funcName)s): %(message)s</td>\n",
       "<td style=\"text-align:left\"><i>The Logging format template (default: %(levelname)s [%(name)s] (%(module)s/%(funcName)s): %(message)s)</i></td></tr>\n",
       "<tr><th>log_level</th>\n",
       "<td><span style='color:blue'>20</span></td>\n",
       "<td style=\"text-align:left\"><i>Set the log level by value or name. (default: 30)</i></td></tr>\n",
       "</table>\n",
       "<p><i>Components:</i>\n",
       "MyTool, MyComponent, AdvancedComponent, SecondaryMyComponent, TelescopeWiseComponent\n",
       "</p>"
      ],
      "text/plain": [
       "<__main__.MyTool at 0x7ff6c78467d0>"
      ]
     },
     "execution_count": 27,
     "metadata": {},
     "output_type": "execute_result"
    }
   ],
   "source": [
    "tool3"
   ]
  },
  {
   "cell_type": "code",
   "execution_count": 28,
   "metadata": {},
   "outputs": [
    {
     "data": {
      "text/html": [
       "<b>MyTool</b>\n",
       "<p> do some things and stuff </p>\n",
       "<table>\n",
       "<tr><th>config_file</th>\n",
       "<td>None</td>\n",
       "<td style=\"text-align:left\"><i>name of a configuration file with parameters to load in addition to command-line parameters (default: None)</i></td></tr>\n",
       "<tr><th>iterations</th>\n",
       "<td><span style='color:blue'>3</span></td>\n",
       "<td style=\"text-align:left\"><i>Number of times to run (default: 5)</i></td></tr>\n",
       "<tr><th>log_datefmt</th>\n",
       "<td>%Y-%m-%d %H:%M:%S</td>\n",
       "<td style=\"text-align:left\"><i>The date format used by logging formatters for %(asctime)s (default: %Y-%m-%d %H:%M:%S)</i></td></tr>\n",
       "<tr><th>log_format</th>\n",
       "<td><span style='color:blue'>%(asctime)s : %(levelname)s [%(name)s %(funcName)s] %(message)s</span></td>\n",
       "<td style=\"text-align:left\"><i>The Logging format template (default: %(levelname)s [%(name)s] (%(module)s/%(funcName)s): %(message)s)</i></td></tr>\n",
       "<tr><th>log_level</th>\n",
       "<td><span style='color:blue'>10</span></td>\n",
       "<td style=\"text-align:left\"><i>Set the log level by value or name. (default: 30)</i></td></tr>\n",
       "</table>\n",
       "<p><i>Components:</i>\n",
       "MyTool, MyComponent, AdvancedComponent, SecondaryMyComponent, TelescopeWiseComponent\n",
       "</p>"
      ],
      "text/plain": [
       "<__main__.MyTool at 0x7ff6c783dad0>"
      ]
     },
     "execution_count": 28,
     "metadata": {},
     "output_type": "execute_result"
    }
   ],
   "source": [
    "tool"
   ]
  },
  {
   "cell_type": "code",
   "execution_count": 29,
   "metadata": {},
   "outputs": [
    {
     "data": {
      "text/html": [
       "<b>SecondaryMyComponent</b>\n",
       "<p> Undocumented! </p>\n",
       "<table>\n",
       "<tr><th>value</th>\n",
       "<td>-1</td>\n",
       "<td style=\"text-align:left\"><i>Value to use (default: -1)</i></td></tr>\n",
       "</table>"
      ],
      "text/plain": [
       "<__main__.SecondaryMyComponent at 0x7ff6c77fb1d0>"
      ]
     },
     "execution_count": 29,
     "metadata": {},
     "output_type": "execute_result"
    }
   ],
   "source": [
    "tool.comp2"
   ]
  },
  {
   "cell_type": "markdown",
   "metadata": {},
   "source": [
    "## Getting the configuration of an instance"
   ]
  },
  {
   "cell_type": "code",
   "execution_count": 30,
   "metadata": {},
   "outputs": [
    {
     "data": {
      "text/plain": [
       "{'MyTool': {'config_file': None,\n",
       "  'iterations': 3,\n",
       "  'log_datefmt': '%Y-%m-%d %H:%M:%S',\n",
       "  'log_format': '%(asctime)s : %(levelname)s [%(name)s %(funcName)s] %(message)s',\n",
       "  'log_level': 10},\n",
       " 'MyComponent': {'value': -1},\n",
       " 'SecondaryMyComponent': {'value': -1},\n",
       " 'AdvancedComponent': {'infile': PosixPath('/home/travis/virtualenv/python3.7.6/lib/python3.7/site-packages/ctapipe_resources/gamma_test.simtel.gz'),\n",
       "  'outfile': PosixPath('/home/travis/build/cta-observatory/ctapipe/docs/examples/Another.txt'),\n",
       "  'value1': -1},\n",
       " 'TelescopeWiseComponent': {'param': [('type', '*', 5.0)]}}"
      ]
     },
     "execution_count": 30,
     "metadata": {},
     "output_type": "execute_result"
    }
   ],
   "source": [
    "tool.get_current_config()"
   ]
  },
  {
   "cell_type": "code",
   "execution_count": 31,
   "metadata": {},
   "outputs": [
    {
     "data": {
      "text/plain": [
       "{'MyTool': {'config_file': None,\n",
       "  'iterations': 12,\n",
       "  'log_datefmt': '%Y-%m-%d %H:%M:%S',\n",
       "  'log_format': '%(asctime)s : %(levelname)s [%(name)s %(funcName)s] %(message)s',\n",
       "  'log_level': 10},\n",
       " 'MyComponent': {'value': -1},\n",
       " 'SecondaryMyComponent': {'value': -1},\n",
       " 'AdvancedComponent': {'infile': PosixPath('/home/travis/virtualenv/python3.7.6/lib/python3.7/site-packages/ctapipe_resources/gamma_test.simtel.gz'),\n",
       "  'outfile': PosixPath('/home/travis/build/cta-observatory/ctapipe/docs/examples/Another.txt'),\n",
       "  'value1': -1},\n",
       " 'TelescopeWiseComponent': {'param': [('type', '*', 5.0)]}}"
      ]
     },
     "execution_count": 31,
     "metadata": {},
     "output_type": "execute_result"
    }
   ],
   "source": [
    "tool.iterations = 12\n",
    "tool.get_current_config()"
   ]
  },
  {
   "cell_type": "markdown",
   "metadata": {},
   "source": [
    "## Writing a Sample Config File"
   ]
  },
  {
   "cell_type": "code",
   "execution_count": 32,
   "metadata": {},
   "outputs": [
    {
     "name": "stdout",
     "output_type": "stream",
     "text": [
      "# Configuration file for mytool.\n",
      "\n",
      "#------------------------------------------------------------------------------\n",
      "# Application(SingletonConfigurable) configuration\n",
      "#------------------------------------------------------------------------------\n",
      "\n",
      "## This is an application.\n",
      "\n",
      "## The date format used by logging formatters for %(asctime)s\n",
      "#c.Application.log_datefmt = '%Y-%m-%d %H:%M:%S'\n",
      "\n",
      "## The Logging format template\n",
      "#c.Application.log_format = '[%(name)s]%(highlevel)s %(message)s'\n",
      "\n",
      "## Set the log level by value or name.\n",
      "#c.Application.log_level = 30\n",
      "\n",
      "#------------------------------------------------------------------------------\n",
      "# Tool(Application) configuration\n",
      "#------------------------------------------------------------------------------\n",
      "\n",
      "## This is an application.\n",
      "\n",
      "## name of a configuration file with parameters to load in addition to command-\n",
      "#  line parameters\n",
      "#c.Tool.config_file = None\n",
      "\n",
      "## The Logging format template\n",
      "#c.Tool.log_format = '%(levelname)s [%(name)s] (%(module)s/%(funcName)s): %(message)s'\n",
      "\n",
      "#------------------------------------------------------------------------------\n",
      "# MyTool(Tool) configuration\n",
      "#------------------------------------------------------------------------------\n",
      "\n",
      "## Number of times to run\n",
      "#c.MyTool.iterations = 5\n",
      "\n",
      "#------------------------------------------------------------------------------\n",
      "# MyComponent(Component) configuration\n",
      "#------------------------------------------------------------------------------\n",
      "\n",
      "## A Component that does stuff\n",
      "\n",
      "## Value to use\n",
      "#c.MyComponent.value = -1\n",
      "\n",
      "#------------------------------------------------------------------------------\n",
      "# AdvancedComponent(Component) configuration\n",
      "#------------------------------------------------------------------------------\n",
      "\n",
      "## An advanced technique\n",
      "\n",
      "## input file name\n",
      "#c.AdvancedComponent.infile = None\n",
      "\n",
      "## output file name\n",
      "#c.AdvancedComponent.outfile = None\n",
      "\n",
      "## Value to use\n",
      "#c.AdvancedComponent.value1 = -1\n",
      "\n",
      "#------------------------------------------------------------------------------\n",
      "# SecondaryMyComponent(MyComponent) configuration\n",
      "#------------------------------------------------------------------------------\n",
      "\n",
      "#------------------------------------------------------------------------------\n",
      "# TelescopeWiseComponent(TelescopeComponent) configuration\n",
      "#------------------------------------------------------------------------------\n",
      "\n",
      "## a component that contains parameters that are per-telescope configurable\n",
      "\n",
      "## Something configurable with telescope patterns\n",
      "#c.TelescopeWiseComponent.param = [('type', '*', 5.0)]\n",
      "\n"
     ]
    }
   ],
   "source": [
    "print(tool.generate_config_file())"
   ]
  }
 ],
 "metadata": {
  "kernelspec": {
   "display_name": "Python 3",
   "language": "python",
   "name": "python3"
  },
  "language_info": {
   "codemirror_mode": {
    "name": "ipython",
    "version": 3
   },
   "file_extension": ".py",
   "mimetype": "text/x-python",
   "name": "python",
   "nbconvert_exporter": "python",
   "pygments_lexer": "ipython3",
   "version": "3.7.6"
  }
 },
 "nbformat": 4,
 "nbformat_minor": 4
}
